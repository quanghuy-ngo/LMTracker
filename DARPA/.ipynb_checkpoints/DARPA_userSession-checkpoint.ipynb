{
 "cells": [
  {
   "cell_type": "code",
   "execution_count": null,
   "id": "fa447c22",
   "metadata": {},
   "outputs": [],
   "source": [
    "def read_json_filter(file_name, host_list, filter_obj_act = [(\"FLOW\", \"START\")]): \n",
    "    #file_name: file directory\n",
    "    # host_list: list of host want to included \n",
    "    # filter_obj_act: a list of  tuple of (object, action) that we want to ELIMINATE/IGNORE when read json file\n",
    "    # read large file and save in to df array \n",
    "    # N = 3000000  # ~ 2 million event\n",
    "    df_full = []\n",
    "    with open(file_name) as f:\n",
    "        for i in f:\n",
    "        # print(type(stud_obj))\n",
    "            temp = f.readline()\n",
    "            stud_obj = json.loads(temp) # json fil esame in form of dictionary\n",
    "            flag = False \n",
    "            for j in filter_obj_act:\n",
    "                if(stud_obj['action'] == j[1] and stud_obj['object'] == j[0]):\n",
    "                    break\n",
    "            if flag == True :\n",
    "                continue\n",
    "            if(stud_obj['hostname'] in host_list):\n",
    "                df_full.append(stud_obj)\n",
    "    df_full = pd.DataFrame(df_full)\n",
    "    df_full['properties_string'] = df_full['properties'].astype(str)\n",
    "    df_full.drop_duplicates(subset=df_full.columns.difference(['id','properties']),inplace=True, ignore_index=True)\n",
    "    df_full.drop(columns='properties_string', inplace=True)\n",
    "    df_full['label'] = 0\n",
    "    df_full.timestamp = pd.to_datetime(df_full.timestamp)\n",
    "\n",
    "\n",
    "    return df_full\n"
   ]
  },
  {
   "cell_type": "code",
   "execution_count": 9,
   "id": "83c8e6f5",
   "metadata": {},
   "outputs": [],
   "source": [
    "import pandas as pd\n",
    "import json\n",
    "import os\n",
    "import numpy as np\n",
    "import time"
   ]
  },
  {
   "cell_type": "code",
   "execution_count": 13,
   "id": "ac6f36d0",
   "metadata": {
    "scrolled": true
   },
   "outputs": [
    {
     "name": "stdout",
     "output_type": "stream",
     "text": [
      "--- 73.28271460533142 seconds ---\n",
      "10.0Mth lines\n",
      "--- 144.99799346923828 seconds ---\n",
      "20.0Mth lines\n",
      "--- 216.90080881118774 seconds ---\n",
      "30.0Mth lines\n"
     ]
    },
    {
     "data": {
      "text/plain": [
       "{'FLOW': 30037059,\n",
       " 'PROCESS': 1523421,\n",
       " 'FILE': 4077938,\n",
       " 'THREAD': 1033841,\n",
       " 'TASK': 18071,\n",
       " 'MODULE': 1368155,\n",
       " 'REGISTRY': 83416,\n",
       " 'USER_SESSION': 2949,\n",
       " 'SHELL': 5898}"
      ]
     },
     "execution_count": 13,
     "metadata": {},
     "output_type": "execute_result"
    }
   ],
   "source": [
    "file_name = \"/home/andrewngo/Desktop/S1Y21/DARPA/24Sep/AIA-601-625.ecar-2019-11-17T05-25-27.401.json\"\n",
    "count = 0\n",
    "df_full = []\n",
    "object_dict = dict()\n",
    "start_time = time.time()\n",
    "with open(file_name) as f:\n",
    "    for i in f:\n",
    "    # print(type(stud_obj))\n",
    "        temp = f.readline()\n",
    "        try:\n",
    "            stud_obj = json.loads(temp) # json fil esame in form of dictionary\n",
    "        except:\n",
    "            continue\n",
    "        flag = False \n",
    "#         for j in filter_obj_act:\n",
    "#             if(stud_obj['action'] == j[1] and stud_obj['object'] == j[0]):\n",
    "#                 break\n",
    "        count += 1\n",
    "        if count % 10000000 == 0:\n",
    "            print(\"--- %s seconds ---\" % (time.time() - start_time))\n",
    "            print(str(count/1000000) + \"Mth lines\")\n",
    "            \n",
    "        if stud_obj['object'] not in object_dict:\n",
    "            object_dict[stud_obj['object']] = 1\n",
    "        else:\n",
    "            object_dict[stud_obj['object']] += 1\n",
    "        if stud_obj['object'] == \"USER_SESSION\":\n",
    "            df_full.append(stud_obj)\n",
    "object_dict"
   ]
  },
  {
   "cell_type": "code",
   "execution_count": 12,
   "id": "c9bb5209",
   "metadata": {
    "scrolled": true
   },
   "outputs": [
    {
     "data": {
      "text/plain": [
       "{'FLOW': 30037059,\n",
       " 'PROCESS': 1523421,\n",
       " 'FILE': 4077938,\n",
       " 'THREAD': 1033841,\n",
       " 'TASK': 18071,\n",
       " 'MODULE': 1368155,\n",
       " 'REGISTRY': 83416,\n",
       " 'USER_SESSION': 2949,\n",
       " 'SHELL': 5898}"
      ]
     },
     "execution_count": 12,
     "metadata": {},
     "output_type": "execute_result"
    }
   ],
   "source": [
    "object_dict"
   ]
  },
  {
   "cell_type": "code",
   "execution_count": null,
   "id": "d5708159",
   "metadata": {},
   "outputs": [],
   "source": []
  }
 ],
 "metadata": {
  "kernelspec": {
   "display_name": "Python 3",
   "language": "python",
   "name": "python3"
  },
  "language_info": {
   "codemirror_mode": {
    "name": "ipython",
    "version": 3
   },
   "file_extension": ".py",
   "mimetype": "text/x-python",
   "name": "python",
   "nbconvert_exporter": "python",
   "pygments_lexer": "ipython3",
   "version": "3.8.8"
  }
 },
 "nbformat": 4,
 "nbformat_minor": 5
}
