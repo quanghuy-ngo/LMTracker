{
 "cells": [
  {
   "cell_type": "code",
   "execution_count": 1,
   "metadata": {
    "id": "0O88LX8mS6tq"
   },
   "outputs": [],
   "source": [
    "# Importing Libraries\n",
    "import tensorflow as tf\n",
    "import pandas as pd\n",
    "import numpy as np\n",
    "from sklearn.model_selection import train_test_split\n",
    "from sklearn.preprocessing import MinMaxScaler\n",
    "import matplotlib.pyplot as plt\n",
    "%matplotlib inline\n",
    "import tensorflow as tf\n",
    "from tensorflow.keras.models import Sequential, Model\n",
    "from tensorflow.keras.layers import Dense\n",
    "from tensorflow.keras.callbacks import EarlyStopping\n",
    "import torch\n",
    "import pickle\n",
    "from sklearn.metrics import classification_report, roc_auc_score, confusion_matrix, precision_recall_curve"
   ]
  },
  {
   "cell_type": "code",
   "execution_count": 2,
   "metadata": {},
   "outputs": [
    {
     "data": {
      "text/plain": [
       "[]"
      ]
     },
     "execution_count": 2,
     "metadata": {},
     "output_type": "execute_result"
    }
   ],
   "source": [
    "tf.config.list_physical_devices('GPU')"
   ]
  },
  {
   "cell_type": "code",
   "execution_count": 3,
   "metadata": {},
   "outputs": [],
   "source": [
    "# embedding_dir = \"/home/andrewngo/Desktop/MLTracker/model_20220217192920\"\n",
    "embedding_dir = \"/home/andrewngo/Desktop/MLTracker/model_CUC_20220311120344\" # model folder\n",
    "path = torch.load(embedding_dir + \"/path.pt\")\n",
    "\n",
    "path_embedding = torch.load(embedding_dir + \"/out_1.pt\")\n",
    "out_index_path = torch.load(embedding_dir + \"/out_index_path_1.pt\")\n",
    "\n",
    "out_mal_train_val_dict = torch.load(embedding_dir + \"/out_mal_train_val_1.pt\")\n",
    "out_mal_train_val_index_path = torch.load(embedding_dir + \"/out_mal_train_val_index_path_1.pt\")\n",
    "\n",
    "out_mal_test_dict = torch.load(embedding_dir + \"/out_mal_test_1.pt\")\n",
    "out_mal_test_index_path = torch.load(embedding_dir + \"/out_mal_test_index_path_1.pt\")\n",
    "\n",
    "out_normal_dict = torch.load(embedding_dir + \"/out_normal_1.pt\")\n",
    "out_normal_index_path = torch.load(embedding_dir + \"/out_normal_index_path_1.pt\")\n",
    "\n",
    "labels = torch.load(embedding_dir + \"/path_labels_1.pt\")\n",
    "\n",
    "\n",
    "model_metapath2vec = torch.load(embedding_dir + \"/model.pt\")\n",
    "\n",
    "\n",
    "\n"
   ]
  },
  {
   "cell_type": "code",
   "execution_count": 4,
   "metadata": {},
   "outputs": [],
   "source": [
    "dir_graph = '/home/andrewngo/Desktop/MLTracker/graph_data_20220305160351'\n",
    "computer2nodeid = torch.load(dir_graph + \"/computer2nodeid.pt\")\n",
    "user2nodeid = torch.load(dir_graph + \"/user2nodeid.pt\")\n",
    "\n"
   ]
  },
  {
   "cell_type": "markdown",
   "metadata": {},
   "source": [
    "# Random shuffling testing strategy with benign sample sampling from graph (Mentioned in paper)"
   ]
  },
  {
   "cell_type": "code",
   "execution_count": 5,
   "metadata": {},
   "outputs": [],
   "source": [
    "out_mal_test_keys = out_mal_test_dict\n",
    "out_mal_val_keys = out_mal_train_val_dict\n",
    "out_normal_keys = out_normal_dict\n",
    "seed = 40\n",
    "\n",
    "\n",
    "# out_mal_test_keys = list(out_mal_test_dict.keys())\n",
    "# out_mal_val_keys = list(out_mal_train_val_dict.keys())\n",
    "# out_normal_keys = list(out_normal_dict.keys())"
   ]
  },
  {
   "cell_type": "code",
   "execution_count": null,
   "metadata": {},
   "outputs": [],
   "source": [
    "# len(path_embedding.values[: int(len(path_embedding.values)/2)])\n",
    "benign_path = path_embedding.values[:labels.count(0)]\n",
    "malicious_path = path_embedding.values[labels.count(0):]\n",
    "benign_path\n",
    "\n",
    "training_sample = 100000\n",
    "val_normal_sample = 5000\n",
    "test_normal_sample = 5000\n",
    "\n",
    "#validation + testing = 1 for easier code, the correct ratio value should be validation + testing + training = 1\n",
    "validation_ratio = 0.5\n",
    "test_ratio = 0.5\n",
    "\n",
    "from numpy.random import permutation\n",
    "np.random.seed(20)\n",
    "perm = permutation(len(benign_path))\n",
    "# normal_train_data_idx = \n",
    "normal_train_data_idx = perm[:training_sample]\n",
    "\n",
    "perm = permutation(len(out_normal_keys))\n",
    "\n",
    "perm_val = perm[:val_normal_sample]\n",
    "perm_test = perm[val_normal_sample:(val_normal_sample+test_normal_sample)]\n",
    "\n",
    "\n",
    "perm = permutation(len(malicious_path))\n",
    "mal_val_data_idx = perm[:int(len(perm)*test_ratio)]\n",
    "mal_test_data_idx = perm[int(len(perm)*test_ratio):]\n",
    "\n",
    "\n",
    "# normal_train_data_idx\n",
    "# normal_val_data_idx\n",
    "# normal_test_data_idx\n",
    "# mal_val_data_idx\n",
    "# mal_test_data_idx\n",
    "\n",
    "normal_train_data = np.asarray([benign_path[i] for i in normal_train_data_idx])\n",
    "\n",
    "out_test_keys_sample = [out_normal_keys[i] for i in perm_test]\n",
    "normal_test_data = np.asarray([out_normal_dict[i].tolist() for i in out_test_keys_sample])\n",
    "\n",
    "out_val_keys_sample = [out_normal_keys[i] for i in perm_val]\n",
    "normal_val_data = np.asarray([out_normal_dict[i].tolist() for i in out_val_keys_sample])\n",
    "\n",
    "\n",
    "mal_val_data = np.asarray([malicious_path[i] for i in mal_val_data_idx])\n",
    "mal_test_data = np.asarray([malicious_path[i] for i in mal_test_data_idx])\n",
    "\n",
    "\n",
    "# print(normal_train_data)\n",
    "# Initializing a MinMax Scaler\n",
    "scaler = MinMaxScaler()\n",
    "\n",
    "# Fitting the train data to the scaler\n",
    "data_scaled = scaler.fit(normal_train_data)\n",
    "\n",
    "\n",
    "\n",
    "\n",
    "normal_train_data = data_scaled.transform(normal_train_data)\n",
    "normal_val_data = data_scaled.transform(normal_val_data)\n",
    "normal_test_data = data_scaled.transform(normal_test_data)\n",
    "mal_val_data = data_scaled.transform(mal_val_data)\n",
    "mal_test_data = data_scaled.transform(mal_test_data)\n",
    "\n",
    "# normal_train_data\n",
    "\n",
    "test_data = np.concatenate((normal_test_data,mal_test_data), axis=0)\n",
    "val_data =  np.concatenate((normal_val_data, mal_val_data), axis=0)\n",
    "labels_test = [0 for i in range(len(normal_test_data))] + [1 for i in range(len(mal_test_data))]\n",
    "labels_val = [0 for i in range(len(normal_val_data))] + [1 for i in range(len(mal_val_data))]\n",
    "\n",
    "\n",
    "# normal_train_data, normal_test_data, train_labels, test_labels = train_test_split(benign_path, , test_size = 0.2, random_state = 111)"
   ]
  },
  {
   "cell_type": "code",
   "execution_count": 690,
   "metadata": {},
   "outputs": [
    {
     "data": {
      "text/plain": [
       "0.882"
      ]
     },
     "execution_count": 690,
     "metadata": {},
     "output_type": "execute_result"
    }
   ],
   "source": [
    "(0.82+0.93+0.86+0.92+0.88)/5"
   ]
  },
  {
   "cell_type": "code",
   "execution_count": 695,
   "metadata": {},
   "outputs": [
    {
     "data": {
      "text/plain": [
       "0.938"
      ]
     },
     "execution_count": 695,
     "metadata": {},
     "output_type": "execute_result"
    }
   ],
   "source": [
    "(0.94+0.93+0.97+0.91+0.94)/5"
   ]
  },
  {
   "cell_type": "markdown",
   "metadata": {},
   "source": [
    "# Random split testing with benign sampling on log file"
   ]
  },
  {
   "cell_type": "code",
   "execution_count": 6,
   "metadata": {},
   "outputs": [
    {
     "ename": "AttributeError",
     "evalue": "'list' object has no attribute 'values'",
     "output_type": "error",
     "traceback": [
      "\u001b[0;31m---------------------------------------------------------------------------\u001b[0m",
      "\u001b[0;31mAttributeError\u001b[0m                            Traceback (most recent call last)",
      "\u001b[0;32m<ipython-input-6-55b21e6e0c21>\u001b[0m in \u001b[0;36m<module>\u001b[0;34m\u001b[0m\n\u001b[0;32m----> 1\u001b[0;31m \u001b[0mlen\u001b[0m\u001b[0;34m(\u001b[0m\u001b[0mpath_embedding\u001b[0m\u001b[0;34m.\u001b[0m\u001b[0mvalues\u001b[0m\u001b[0;34m[\u001b[0m\u001b[0;34m:\u001b[0m \u001b[0mint\u001b[0m\u001b[0;34m(\u001b[0m\u001b[0mlen\u001b[0m\u001b[0;34m(\u001b[0m\u001b[0mpath_embedding\u001b[0m\u001b[0;34m.\u001b[0m\u001b[0mvalues\u001b[0m\u001b[0;34m)\u001b[0m\u001b[0;34m/\u001b[0m\u001b[0;36m2\u001b[0m\u001b[0;34m)\u001b[0m\u001b[0;34m]\u001b[0m\u001b[0;34m)\u001b[0m\u001b[0;34m\u001b[0m\u001b[0;34m\u001b[0m\u001b[0m\n\u001b[0m\u001b[1;32m      2\u001b[0m \u001b[0mbenign_path\u001b[0m \u001b[0;34m=\u001b[0m \u001b[0mpath_embedding\u001b[0m\u001b[0;34m.\u001b[0m\u001b[0mvalues\u001b[0m\u001b[0;34m[\u001b[0m\u001b[0;34m:\u001b[0m\u001b[0mlabels\u001b[0m\u001b[0;34m.\u001b[0m\u001b[0mcount\u001b[0m\u001b[0;34m(\u001b[0m\u001b[0;36m0\u001b[0m\u001b[0;34m)\u001b[0m\u001b[0;34m]\u001b[0m\u001b[0;34m\u001b[0m\u001b[0;34m\u001b[0m\u001b[0m\n\u001b[1;32m      3\u001b[0m \u001b[0mmalicious_path\u001b[0m \u001b[0;34m=\u001b[0m \u001b[0mpath_embedding\u001b[0m\u001b[0;34m.\u001b[0m\u001b[0mvalues\u001b[0m\u001b[0;34m[\u001b[0m\u001b[0mlabels\u001b[0m\u001b[0;34m.\u001b[0m\u001b[0mcount\u001b[0m\u001b[0;34m(\u001b[0m\u001b[0;36m0\u001b[0m\u001b[0;34m)\u001b[0m\u001b[0;34m:\u001b[0m\u001b[0;34m]\u001b[0m\u001b[0;34m\u001b[0m\u001b[0;34m\u001b[0m\u001b[0m\n\u001b[1;32m      4\u001b[0m \u001b[0mbenign_path\u001b[0m\u001b[0;34m\u001b[0m\u001b[0;34m\u001b[0m\u001b[0m\n\u001b[1;32m      5\u001b[0m \u001b[0;34m\u001b[0m\u001b[0m\n",
      "\u001b[0;31mAttributeError\u001b[0m: 'list' object has no attribute 'values'"
     ]
    }
   ],
   "source": [
    "len(path_embedding.values[: int(len(path_embedding.values)/2)])\n",
    "benign_path = path_embedding.values[:labels.count(0)]\n",
    "malicious_path = path_embedding.values[labels.count(0):]\n",
    "benign_path\n",
    "\n",
    "training_sample = 10000\n",
    "val_normal_sample = 5000\n",
    "test_normal_sample = 5000\n",
    "\n",
    "\n",
    "#validation + testing = 1 for easier code, the correct ratio value should be validation + testing + training = 1\n",
    "validation_ratio = 0.5\n",
    "test_ratio = 0.5\n",
    "\n",
    "from numpy.random import permutation\n",
    "np.random.seed(20)\n",
    "perm = permutation(len(out_normal_keys))\n",
    "# normal_train_data_idx = \n",
    "\n",
    "perm_val = perm[:val_normal_sample]\n",
    "perm_test = perm[val_normal_sample:(val_normal_sample+test_normal_sample)]\n",
    "perm_train = perm[(val_normal_sample+test_normal_sample):(val_normal_sample+test_normal_sample+training_sample)]\n",
    "\n",
    "perm = permutation(len(malicious_path))\n",
    "mal_val_data_idx = perm[:int(len(perm)*test_ratio)]\n",
    "mal_test_data_idx = perm[int(len(perm)*test_ratio):]\n",
    "\n",
    "\n",
    "# normal_train_data_idx\n",
    "# normal_val_data_idx\n",
    "# normal_test_data_idx\n",
    "# mal_val_data_idx\n",
    "# mal_test_data_idx\n",
    "\n",
    "out_train_keys_sample = [out_normal_keys[i] for i in perm_train]\n",
    "normal_train_data = np.asarray([out_normal_dict[i].tolist() for i in out_train_keys_sample])\n",
    "\n",
    "out_test_keys_sample = [out_normal_keys[i] for i in perm_test]\n",
    "normal_test_data = np.asarray([out_normal_dict[i].tolist() for i in out_test_keys_sample])\n",
    "\n",
    "out_val_keys_sample = [out_normal_keys[i] for i in perm_val]\n",
    "normal_val_data = np.asarray([out_normal_dict[i].tolist() for i in out_val_keys_sample])\n",
    "\n",
    "mal_val_data = np.asarray([malicious_path[i] for i in mal_val_data_idx])\n",
    "mal_test_data = np.asarray([malicious_path[i] for i in mal_test_data_idx])\n",
    "\n",
    "\n",
    "# print(normal_train_data)\n",
    "# Initializing a MinMax Scaler\n",
    "scaler = MinMaxScaler()\n",
    "\n",
    "# Fitting the train data to the scaler\n",
    "data_scaled = scaler.fit(normal_train_data)\n",
    "\n",
    "\n",
    "\n",
    "\n",
    "normal_train_data = data_scaled.transform(normal_train_data)\n",
    "normal_val_data = data_scaled.transform(normal_val_data)\n",
    "normal_test_data = data_scaled.transform(normal_test_data)\n",
    "mal_val_data = data_scaled.transform(mal_val_data)\n",
    "mal_test_data = data_scaled.transform(mal_test_data)\n",
    "\n",
    "# normal_train_data\n",
    "\n",
    "test_data = np.concatenate((normal_test_data,mal_test_data), axis=0)\n",
    "val_data =  np.concatenate((normal_val_data, mal_val_data), axis=0)\n",
    "labels_test = [0 for i in range(len(normal_test_data))] + [1 for i in range(len(mal_test_data))]\n",
    "labels_val = [0 for i in range(len(normal_val_data))] + [1 for i in range(len(mal_val_data))]\n",
    "\n",
    "\n",
    "# normal_train_data, normal_test_data, train_labels, test_labels = train_test_split(benign_path, , test_size = 0.2, random_state = 111)"
   ]
  },
  {
   "cell_type": "markdown",
   "metadata": {},
   "source": [
    "# Split by day testing strategy"
   ]
  },
  {
   "cell_type": "code",
   "execution_count": 6,
   "metadata": {},
   "outputs": [],
   "source": [
    "training_sample = 100000\n",
    "val_normal_sample = 5000\n",
    "test_normal_sample = 5000\n",
    "\n",
    "\n",
    "\n",
    "# Randomly select normal sample for training, testing, validation sets\n",
    "from numpy.random import permutation\n",
    "np.random.seed(seed)\n",
    "perm = permutation(len(out_normal_keys))\n",
    "\n",
    "\n",
    "\n",
    "\n",
    "perm_val = perm[:val_normal_sample]\n",
    "perm_test = perm[(val_normal_sample):(val_normal_sample+test_normal_sample)]\n",
    "perm_train = perm[(val_normal_sample+test_normal_sample):(training_sample+val_normal_sample+test_normal_sample)]\n",
    "\n",
    "\n",
    "# out_train_keys_sample = \n",
    "normal_train_data = np.asarray([out_normal_keys[i].tolist() for i in perm_train])\n",
    "\n",
    "\n",
    "# out_test_keys_sample = \n",
    "normal_test_data = np.asarray([out_normal_keys[i].tolist() for i in perm_test])\n",
    "\n",
    "# out_val_keys_sample = \n",
    "normal_val_data = np.asarray([out_normal_keys[i].tolist() for i in perm_val])\n",
    "\n",
    "\n",
    "mal_val_data = np.asarray([i.tolist() for i in out_mal_train_val_dict])\n",
    "mal_test_data = np.asarray([i.tolist() for i in out_mal_test_dict])\n",
    "\n",
    "\n",
    "\n",
    "\n",
    "\n",
    "\n",
    "normal_train_data_path = [out_normal_index_path[i] for i in perm_train]\n",
    "normal_test_data_path = [out_normal_index_path[i] for i in perm_test]\n",
    "normal_val_data_path = [out_normal_index_path[i] for i in perm_val]\n",
    "\n",
    "mal_val_data_path  = [out_mal_train_val_index_path[i] for i in out_mal_train_val_index_path]\n",
    "mal_test_data_path = [out_mal_test_index_path[i] for i in out_mal_test_index_path]\n",
    "\n",
    "scaler = MinMaxScaler()\n",
    "\n",
    "# Fitting the train data to the scaler\n",
    "data_scaled = scaler.fit(normal_train_data)\n",
    "\n",
    "\n",
    "\n",
    "\n",
    "normal_train_data = data_scaled.transform(normal_train_data)\n",
    "normal_val_data = data_scaled.transform(normal_val_data)\n",
    "normal_test_data = data_scaled.transform(normal_test_data)\n",
    "mal_val_data = data_scaled.transform(mal_val_data)\n",
    "mal_test_data = data_scaled.transform(mal_test_data)\n",
    "\n",
    "test_data = np.concatenate((normal_test_data,mal_test_data), axis=0)\n",
    "val_data =  np.concatenate((normal_val_data, mal_val_data), axis=0)\n",
    "val_data_path = normal_train_data_path + mal_val_data_path\n",
    "test_data_path = normal_test_data_path + mal_test_data_path\n",
    "\n",
    "labels_test = [0 for i in range(len(normal_test_data))] + [1 for i in range(len(mal_test_data))]\n",
    "labels_val = [0 for i in range(len(normal_val_data))] + [1 for i in range(len(mal_val_data))]\n",
    "\n"
   ]
  },
  {
   "cell_type": "code",
   "execution_count": 7,
   "metadata": {},
   "outputs": [],
   "source": [
    "# Train"
   ]
  },
  {
   "cell_type": "code",
   "execution_count": 8,
   "metadata": {},
   "outputs": [
    {
     "name": "stdout",
     "output_type": "stream",
     "text": [
      "Train Data: 100000\n",
      "Validation Normal: 5000\n",
      "Validation Malicious: 229\n",
      "Test Normal: 5000\n",
      "Test Malicious: 245\n"
     ]
    }
   ],
   "source": [
    "print(\"Train Data: \" + str(len(normal_train_data)))\n",
    "print(\"Validation Normal: \" + str(len(normal_val_data)))\n",
    "print(\"Validation Malicious: \" + str(len(mal_val_data)))\n",
    "print(\"Test Normal: \" + str(len(normal_test_data)))\n",
    "print(\"Test Malicious: \" + str(len(mal_test_data)))"
   ]
  },
  {
   "cell_type": "code",
   "execution_count": 9,
   "metadata": {},
   "outputs": [],
   "source": [
    "# # Initializing a MinMax Scaler\n",
    "# scaler = MinMaxScaler()\n",
    "\n",
    "# # Fitting the train data to the scaler\n",
    "# data_scaled = scaler.fit(normal_train_data)\n",
    "# normal_train_data = data_scaled.transform(normal_train_data)\n",
    "# normal_test_data = data_scaled.transform(normal_test_data)"
   ]
  },
  {
   "cell_type": "code",
   "execution_count": 10,
   "metadata": {
    "colab": {
     "base_uri": "https://localhost:8080/",
     "height": 282
    },
    "id": "S2ligR14O2Yk",
    "outputId": "da6da3d0-72ca-4220-de6e-5035c3d1e5e8"
   },
   "outputs": [
    {
     "data": {
      "text/plain": [
       "[<matplotlib.lines.Line2D at 0x7f4bba848fa0>]"
      ]
     },
     "execution_count": 10,
     "metadata": {},
     "output_type": "execute_result"
    },
    {
     "data": {
      "image/png": "[encoded data removed]",
      "text/plain": [
       "<Figure size 432x288 with 1 Axes>"
      ]
     },
     "metadata": {
      "needs_background": "light"
     },
     "output_type": "display_data"
    }
   ],
   "source": [
    "# plotting the first three normal data points\n",
    "plt.plot(mal_test_data[0])\n",
    "plt.plot(mal_test_data[1])\n",
    "plt.plot(mal_test_data[3])\n",
    "# plt.plot(mal_test_data[4])\n",
    "plt.plot(mal_test_data[5])\n",
    "# plt.plot(mal_test_data[2])"
   ]
  },
  {
   "cell_type": "code",
   "execution_count": 11,
   "metadata": {},
   "outputs": [
    {
     "data": {
      "text/plain": [
       "array([0.27774327, 0.21514998, 0.3142532 , 0.1802037 , 0.24550145,\n",
       "       0.1733336 , 0.00095093, 0.20587733, 0.21705764, 0.15208752,\n",
       "       0.3331457 , 0.21856484, 0.26626615, 0.23723738, 0.22844802,\n",
       "       0.31473532, 0.13357274, 0.33336328, 0.13626579, 0.35789771,\n",
       "       0.20099188, 0.30690807, 0.16767599, 0.22903807, 0.30579608,\n",
       "       0.22899677, 0.29033629, 0.23092727, 0.26570632, 0.21047413,\n",
       "       0.20774964, 0.28037053, 0.11018472, 0.19130986, 0.16196493,\n",
       "       0.28390631, 0.23527807, 0.19293491, 0.21190299, 0.33412746,\n",
       "       0.11738113, 0.37328425, 0.34557906, 0.19128022, 0.2353395 ,\n",
       "       0.18748908, 0.11970085, 0.39759994, 0.23960508, 0.1168793 ,\n",
       "       0.22870445, 0.22400215, 0.23921698, 0.2875028 , 0.37320018,\n",
       "       0.34785928, 0.18848935, 0.25760162, 0.1791426 , 0.41016584,\n",
       "       0.30685607, 0.30326734, 0.17921479, 0.1607072 , 0.33498014,\n",
       "       0.19785297, 0.20353972, 0.29866984, 0.22573907, 0.26820026,\n",
       "       0.28939655, 0.23969588, 0.23018216, 0.31689626, 0.2379493 ,\n",
       "       0.26711186, 0.16034006, 0.1805189 , 0.39582982, 0.23554171,\n",
       "       0.31625947, 0.26784673, 0.26089977, 0.28845661, 0.16903905,\n",
       "       0.27457944, 0.12609048, 0.13773383, 0.23052653, 0.22386757,\n",
       "       0.26644496, 0.15084717, 0.19164571, 0.34885512, 0.65032358,\n",
       "       0.27805723, 0.18574072, 0.17334782, 0.31534569, 0.24838093,\n",
       "       0.19188586, 0.08782764, 0.44691902, 0.2311245 , 0.38839099,\n",
       "       0.1368256 , 0.36509871, 0.26748468, 0.21463513, 0.24341811,\n",
       "       0.19039261, 0.31715453, 0.14507559, 0.31970099, 0.23863957,\n",
       "       0.27683651, 0.28941671, 0.14123744, 0.29573641, 0.17897607,\n",
       "       0.25093817, 0.28507678, 0.26971776, 0.39523327, 0.46681349,\n",
       "       0.18750681, 0.36811231, 0.2518433 ])"
      ]
     },
     "execution_count": 11,
     "metadata": {},
     "output_type": "execute_result"
    }
   ],
   "source": [
    "normal_test_data[4]"
   ]
  },
  {
   "cell_type": "code",
   "execution_count": 12,
   "metadata": {},
   "outputs": [
    {
     "data": {
      "text/plain": [
       "[<matplotlib.lines.Line2D at 0x7f4bba93d310>]"
      ]
     },
     "execution_count": 12,
     "metadata": {},
     "output_type": "execute_result"
    },
    {
     "data": {
      "image/png": "[encoded data removed]",
      "text/plain": [
       "<Figure size 432x288 with 1 Axes>"
      ]
     },
     "metadata": {
      "needs_background": "light"
     },
     "output_type": "display_data"
    }
   ],
   "source": [
    "plt.plot(normal_test_data[0])\n",
    "plt.plot(normal_test_data[1])\n",
    "plt.plot(normal_test_data[2])\n",
    "plt.plot(normal_test_data[3])\n",
    "plt.plot(normal_test_data[4])\n",
    "plt.plot(normal_test_data[5])"
   ]
  },
  {
   "cell_type": "code",
   "execution_count": 13,
   "metadata": {
    "colab": {
     "base_uri": "https://localhost:8080/",
     "height": 282
    },
    "id": "MTzbDn_XPVJP",
    "outputId": "760b543d-dcd2-4e67-b6b9-3541e29d5f69"
   },
   "outputs": [
    {
     "data": {
      "text/plain": [
       "[<matplotlib.lines.Line2D at 0x7f4bba7278e0>]"
      ]
     },
     "execution_count": 13,
     "metadata": {},
     "output_type": "execute_result"
    },
    {
     "data": {
      "image/png": "[encoded data removed]",
      "text/plain": [
       "<Figure size 432x288 with 1 Axes>"
      ]
     },
     "metadata": {
      "needs_background": "light"
     },
     "output_type": "display_data"
    }
   ],
   "source": [
    "# plotting the first three anomaly data points\n",
    "plt.plot(normal_train_data[0])\n",
    "plt.plot(normal_train_data[1])\n",
    "plt.plot(normal_train_data[2])"
   ]
  },
  {
   "cell_type": "code",
   "execution_count": 14,
   "metadata": {},
   "outputs": [],
   "source": [
    "class Autoencoder(Model):\n",
    "  def __init__(self):\n",
    "    super(Autoencoder, self).__init__()\n",
    "    self.encoder = Sequential([\n",
    "                                Dense(128, activation='tanh'),\n",
    "#                                 Dense(32, activation='relu'),\n",
    "                                Dense(64, activation='tanh'),\n",
    "#                                 Dense(8, activation='relu')\n",
    "    ])\n",
    "\n",
    "    self.decoder = Sequential([\n",
    "                               Dense(64, activation='tanh'),\n",
    "#                                Dense(32, activation='rel'),\n",
    "                               Dense(128, activation='tanh'),\n",
    "    ])\n",
    "\n",
    "  def call(self,x):\n",
    "    encoded = self.encoder(x)\n",
    "    decoded = self.decoder(encoded)\n",
    "    return decoded"
   ]
  },
  {
   "cell_type": "code",
   "execution_count": 15,
   "metadata": {},
   "outputs": [],
   "source": [
    "# class Autoencoder(Model):\n",
    "#   def __init__(self):\n",
    "#     super(Autoencoder, self).__init__()\n",
    "#     self.encoder = Sequential([\n",
    "#                                 Dense(128, activation='tanh'),\n",
    "#                                 Dense(64, activation='tanh'),\n",
    "#                                 Dense(32, activation='tanh'),\n",
    "#                                 Dense(16, activation='tanh'),\n",
    "#                                 Dense(8, activation='tanh')\n",
    "#     ])\n",
    "\n",
    "#     self.decoder = Sequential([\n",
    "#                                Dense(16, activation='tanh'),\n",
    "#                                Dense(32, activation='tanh'),\n",
    "#                                Dense(64, activation='tanh'),\n",
    "#                                Dense(128, activation='tanh')\n",
    "                            \n",
    "#     ])\n",
    "\n",
    "#   def call(self,x):\n",
    "#     encoded = self.encoder(x)\n",
    "#     decoded = self.decoder(encoded)\n",
    "#     return decoded"
   ]
  },
  {
   "cell_type": "code",
   "execution_count": 16,
   "metadata": {
    "id": "EaejgzKQfrGC"
   },
   "outputs": [],
   "source": [
    "# Instantiating the Autoencoder\n",
    "model = Autoencoder()\n",
    "\n",
    "# creating an early_stopping\n",
    "# early_stopping = EarlyStopping(monitor='val_loss',\n",
    "#                                patience = 20,\n",
    "#                                mode = 'min')\n",
    "early_stopping = EarlyStopping(\n",
    "    monitor='val_loss',\n",
    "    min_delta=0.0001,\n",
    "    patience=20,\n",
    "    verbose=1, \n",
    "    mode='min',\n",
    "    restore_best_weights=True)\n",
    "# Compiling the model\n",
    "model.compile(optimizer = 'adam',\n",
    "              loss = 'mae')\n",
    "\n",
    "# model.compile(optimizer = 'adam',\n",
    "#               loss = 'mse')"
   ]
  },
  {
   "cell_type": "code",
   "execution_count": 17,
   "metadata": {
    "scrolled": true
   },
   "outputs": [
    {
     "data": {
      "text/plain": [
       "100000"
      ]
     },
     "execution_count": 17,
     "metadata": {},
     "output_type": "execute_result"
    }
   ],
   "source": [
    "len(normal_train_data)"
   ]
  },
  {
   "cell_type": "code",
   "execution_count": null,
   "metadata": {},
   "outputs": [],
   "source": []
  },
  {
   "cell_type": "code",
   "execution_count": 18,
   "metadata": {},
   "outputs": [
    {
     "name": "stdout",
     "output_type": "stream",
     "text": [
      "Epoch 1/500\n",
      "782/782 [==============================] - 2s 2ms/step - loss: 0.0235 - val_loss: 0.0174\n",
      "Epoch 2/500\n",
      "782/782 [==============================] - 1s 2ms/step - loss: 0.0165 - val_loss: 0.0160\n",
      "Epoch 3/500\n",
      "782/782 [==============================] - 1s 2ms/step - loss: 0.0154 - val_loss: 0.0151\n",
      "Epoch 4/500\n",
      "782/782 [==============================] - 1s 1ms/step - loss: 0.0146 - val_loss: 0.0142\n",
      "Epoch 5/500\n",
      "782/782 [==============================] - 1s 1ms/step - loss: 0.0139 - val_loss: 0.0137\n",
      "Epoch 6/500\n",
      "782/782 [==============================] - 1s 2ms/step - loss: 0.0132 - val_loss: 0.0129\n",
      "Epoch 7/500\n",
      "782/782 [==============================] - 1s 2ms/step - loss: 0.0127 - val_loss: 0.0126\n",
      "Epoch 8/500\n",
      "782/782 [==============================] - 1s 2ms/step - loss: 0.0122 - val_loss: 0.0122\n",
      "Epoch 9/500\n",
      "782/782 [==============================] - 1s 2ms/step - loss: 0.0118 - val_loss: 0.0114\n",
      "Epoch 10/500\n",
      "782/782 [==============================] - 1s 2ms/step - loss: 0.0114 - val_loss: 0.0113\n",
      "Epoch 11/500\n",
      "782/782 [==============================] - 1s 2ms/step - loss: 0.0110 - val_loss: 0.0107\n",
      "Epoch 12/500\n",
      "782/782 [==============================] - 1s 2ms/step - loss: 0.0107 - val_loss: 0.0104\n",
      "Epoch 13/500\n",
      "782/782 [==============================] - 1s 2ms/step - loss: 0.0104 - val_loss: 0.0101\n",
      "Epoch 14/500\n",
      "782/782 [==============================] - 1s 2ms/step - loss: 0.0102 - val_loss: 0.0102\n",
      "Epoch 15/500\n",
      "782/782 [==============================] - 1s 2ms/step - loss: 0.0100 - val_loss: 0.0098\n",
      "Epoch 16/500\n",
      "782/782 [==============================] - 1s 2ms/step - loss: 0.0099 - val_loss: 0.0098\n",
      "Epoch 17/500\n",
      "782/782 [==============================] - 1s 2ms/step - loss: 0.0097 - val_loss: 0.0095\n",
      "Epoch 18/500\n",
      "782/782 [==============================] - 1s 2ms/step - loss: 0.0096 - val_loss: 0.0094\n",
      "Epoch 19/500\n",
      "782/782 [==============================] - 1s 2ms/step - loss: 0.0095 - val_loss: 0.0094\n",
      "Epoch 20/500\n",
      "782/782 [==============================] - 1s 2ms/step - loss: 0.0094 - val_loss: 0.0091\n",
      "Epoch 21/500\n",
      "782/782 [==============================] - 1s 2ms/step - loss: 0.0093 - val_loss: 0.0091\n",
      "Epoch 22/500\n",
      "782/782 [==============================] - 1s 2ms/step - loss: 0.0092 - val_loss: 0.0094\n",
      "Epoch 23/500\n",
      "782/782 [==============================] - 1s 2ms/step - loss: 0.0092 - val_loss: 0.0089\n",
      "Epoch 24/500\n",
      "782/782 [==============================] - 1s 2ms/step - loss: 0.0091 - val_loss: 0.0089\n",
      "Epoch 25/500\n",
      "782/782 [==============================] - 1s 2ms/step - loss: 0.0090 - val_loss: 0.0094\n",
      "Epoch 26/500\n",
      "782/782 [==============================] - 1s 2ms/step - loss: 0.0089 - val_loss: 0.0090\n",
      "Epoch 27/500\n",
      "782/782 [==============================] - 1s 2ms/step - loss: 0.0089 - val_loss: 0.0089\n",
      "Epoch 28/500\n",
      "782/782 [==============================] - 1s 2ms/step - loss: 0.0089 - val_loss: 0.0093\n",
      "Epoch 29/500\n",
      "782/782 [==============================] - 1s 2ms/step - loss: 0.0088 - val_loss: 0.0086\n",
      "Epoch 30/500\n",
      "782/782 [==============================] - 1s 2ms/step - loss: 0.0088 - val_loss: 0.0093\n",
      "Epoch 31/500\n",
      "782/782 [==============================] - 1s 2ms/step - loss: 0.0088 - val_loss: 0.0086\n",
      "Epoch 32/500\n",
      "782/782 [==============================] - 1s 2ms/step - loss: 0.0087 - val_loss: 0.0086\n",
      "Epoch 33/500\n",
      "782/782 [==============================] - 1s 2ms/step - loss: 0.0088 - val_loss: 0.0088\n",
      "Epoch 34/500\n",
      "782/782 [==============================] - 1s 2ms/step - loss: 0.0087 - val_loss: 0.0088\n",
      "Epoch 35/500\n",
      "782/782 [==============================] - 1s 2ms/step - loss: 0.0087 - val_loss: 0.0091\n",
      "Epoch 36/500\n",
      "782/782 [==============================] - 1s 2ms/step - loss: 0.0086 - val_loss: 0.0084\n",
      "Epoch 37/500\n",
      "782/782 [==============================] - 1s 2ms/step - loss: 0.0086 - val_loss: 0.0086\n",
      "Epoch 38/500\n",
      "782/782 [==============================] - 1s 2ms/step - loss: 0.0086 - val_loss: 0.0086\n",
      "Epoch 39/500\n",
      "782/782 [==============================] - 1s 2ms/step - loss: 0.0086 - val_loss: 0.0085\n",
      "Epoch 40/500\n",
      "782/782 [==============================] - 1s 2ms/step - loss: 0.0085 - val_loss: 0.0086\n",
      "Epoch 41/500\n",
      "782/782 [==============================] - 1s 2ms/step - loss: 0.0085 - val_loss: 0.0088\n",
      "Epoch 42/500\n",
      "782/782 [==============================] - 1s 2ms/step - loss: 0.0085 - val_loss: 0.0086\n",
      "Epoch 43/500\n",
      "782/782 [==============================] - 1s 2ms/step - loss: 0.0084 - val_loss: 0.0083\n",
      "Epoch 44/500\n",
      "782/782 [==============================] - 1s 2ms/step - loss: 0.0084 - val_loss: 0.0084\n",
      "Epoch 45/500\n",
      "782/782 [==============================] - 1s 2ms/step - loss: 0.0084 - val_loss: 0.0083\n",
      "Epoch 46/500\n",
      "782/782 [==============================] - 1s 2ms/step - loss: 0.0084 - val_loss: 0.0082\n",
      "Epoch 47/500\n",
      "782/782 [==============================] - 1s 2ms/step - loss: 0.0083 - val_loss: 0.0085\n",
      "Epoch 48/500\n",
      "782/782 [==============================] - 1s 2ms/step - loss: 0.0083 - val_loss: 0.0082\n",
      "Epoch 49/500\n",
      "782/782 [==============================] - 1s 2ms/step - loss: 0.0083 - val_loss: 0.0083\n",
      "Epoch 50/500\n",
      "782/782 [==============================] - 1s 2ms/step - loss: 0.0083 - val_loss: 0.0087\n",
      "Epoch 51/500\n",
      "782/782 [==============================] - 1s 2ms/step - loss: 0.0083 - val_loss: 0.0083\n",
      "Epoch 52/500\n",
      "782/782 [==============================] - 1s 2ms/step - loss: 0.0083 - val_loss: 0.0085\n",
      "Epoch 53/500\n",
      "782/782 [==============================] - 1s 2ms/step - loss: 0.0083 - val_loss: 0.0082\n",
      "Epoch 54/500\n",
      "782/782 [==============================] - 1s 2ms/step - loss: 0.0083 - val_loss: 0.0082\n",
      "Epoch 55/500\n",
      "782/782 [==============================] - 1s 2ms/step - loss: 0.0083 - val_loss: 0.0083\n",
      "Epoch 56/500\n",
      "782/782 [==============================] - 1s 2ms/step - loss: 0.0083 - val_loss: 0.0084\n",
      "Epoch 57/500\n",
      "782/782 [==============================] - 1s 2ms/step - loss: 0.0083 - val_loss: 0.0082\n",
      "Epoch 58/500\n",
      "782/782 [==============================] - 1s 2ms/step - loss: 0.0083 - val_loss: 0.0082\n",
      "Epoch 59/500\n",
      "782/782 [==============================] - 1s 2ms/step - loss: 0.0082 - val_loss: 0.0083\n",
      "Epoch 60/500\n",
      "782/782 [==============================] - 1s 2ms/step - loss: 0.0082 - val_loss: 0.0083\n",
      "Epoch 61/500\n",
      "782/782 [==============================] - 1s 2ms/step - loss: 0.0082 - val_loss: 0.0081\n",
      "Epoch 62/500\n",
      "782/782 [==============================] - 1s 2ms/step - loss: 0.0082 - val_loss: 0.0081\n",
      "Epoch 63/500\n",
      "782/782 [==============================] - 1s 2ms/step - loss: 0.0082 - val_loss: 0.0081\n",
      "Epoch 64/500\n",
      "782/782 [==============================] - 1s 2ms/step - loss: 0.0082 - val_loss: 0.0081\n",
      "Epoch 65/500\n",
      "782/782 [==============================] - 1s 2ms/step - loss: 0.0082 - val_loss: 0.0084\n",
      "Epoch 66/500\n",
      "782/782 [==============================] - 1s 2ms/step - loss: 0.0082 - val_loss: 0.0082\n",
      "Epoch 67/500\n",
      "782/782 [==============================] - 1s 2ms/step - loss: 0.0082 - val_loss: 0.0084\n",
      "Epoch 68/500\n",
      "782/782 [==============================] - 1s 2ms/step - loss: 0.0082 - val_loss: 0.0081\n",
      "Epoch 69/500\n",
      "782/782 [==============================] - 1s 2ms/step - loss: 0.0082 - val_loss: 0.0082\n",
      "Epoch 70/500\n",
      "782/782 [==============================] - 1s 2ms/step - loss: 0.0082 - val_loss: 0.0082\n",
      "Epoch 71/500\n",
      "782/782 [==============================] - 1s 2ms/step - loss: 0.0081 - val_loss: 0.0079\n",
      "Epoch 72/500\n",
      "782/782 [==============================] - 1s 2ms/step - loss: 0.0081 - val_loss: 0.0083\n",
      "Epoch 73/500\n",
      "782/782 [==============================] - 1s 2ms/step - loss: 0.0081 - val_loss: 0.0083\n",
      "Epoch 74/500\n",
      "782/782 [==============================] - 1s 2ms/step - loss: 0.0081 - val_loss: 0.0083\n",
      "Epoch 75/500\n",
      "782/782 [==============================] - 1s 2ms/step - loss: 0.0081 - val_loss: 0.0080\n",
      "Epoch 76/500\n",
      "782/782 [==============================] - 1s 2ms/step - loss: 0.0081 - val_loss: 0.0080\n",
      "Epoch 77/500\n",
      "782/782 [==============================] - 1s 2ms/step - loss: 0.0081 - val_loss: 0.0081\n",
      "Epoch 78/500\n",
      "782/782 [==============================] - 1s 2ms/step - loss: 0.0081 - val_loss: 0.0080\n",
      "Epoch 79/500\n",
      "782/782 [==============================] - 1s 2ms/step - loss: 0.0081 - val_loss: 0.0081\n",
      "Epoch 80/500\n",
      "782/782 [==============================] - 1s 2ms/step - loss: 0.0081 - val_loss: 0.0081\n",
      "Epoch 81/500\n",
      "782/782 [==============================] - 1s 2ms/step - loss: 0.0081 - val_loss: 0.0082\n",
      "Epoch 82/500\n",
      "782/782 [==============================] - 1s 2ms/step - loss: 0.0081 - val_loss: 0.0081\n",
      "Epoch 83/500\n",
      "782/782 [==============================] - 1s 2ms/step - loss: 0.0081 - val_loss: 0.0083\n",
      "Epoch 84/500\n",
      "782/782 [==============================] - 1s 2ms/step - loss: 0.0081 - val_loss: 0.0081\n",
      "Epoch 85/500\n",
      "782/782 [==============================] - 1s 2ms/step - loss: 0.0081 - val_loss: 0.0079\n",
      "Epoch 86/500\n",
      "782/782 [==============================] - 1s 2ms/step - loss: 0.0081 - val_loss: 0.0081\n",
      "Epoch 87/500\n",
      "782/782 [==============================] - 1s 2ms/step - loss: 0.0081 - val_loss: 0.0083\n",
      "Epoch 88/500\n",
      "782/782 [==============================] - 1s 2ms/step - loss: 0.0081 - val_loss: 0.0080\n",
      "Epoch 89/500\n",
      "782/782 [==============================] - 1s 2ms/step - loss: 0.0080 - val_loss: 0.0081\n",
      "Epoch 90/500\n",
      "782/782 [==============================] - 1s 2ms/step - loss: 0.0081 - val_loss: 0.0082\n",
      "Epoch 91/500\n",
      "768/782 [============================>.] - ETA: 0s - loss: 0.0081Restoring model weights from the end of the best epoch: 71.\n",
      "782/782 [==============================] - 2s 2ms/step - loss: 0.0081 - val_loss: 0.0082\n",
      "Epoch 91: early stopping\n"
     ]
    }
   ],
   "source": [
    "# Training the model\n",
    "validate = np.concatenate((normal_train_data, normal_val_data), axis=0)\n",
    "\n",
    "history = model.fit(normal_train_data,normal_train_data,\n",
    "                    epochs = 500,\n",
    "                    batch_size = 128,\n",
    "                    validation_data = (validate,validate),\n",
    "                    shuffle = True,\n",
    "                    callbacks = [early_stopping])"
   ]
  },
  {
   "cell_type": "code",
   "execution_count": 19,
   "metadata": {},
   "outputs": [
    {
     "data": {
      "image/png": "[encoded data removed]",
      "text/plain": [
       "<Figure size 432x288 with 1 Axes>"
      ]
     },
     "metadata": {
      "needs_background": "light"
     },
     "output_type": "display_data"
    }
   ],
   "source": [
    "plt.plot(history.history['loss'], linewidth=2, label='Train')\n",
    "plt.plot(history.history['val_loss'], linewidth=2, label='Test')\n",
    "plt.legend(loc='upper right')\n",
    "plt.title('Model loss')\n",
    "plt.ylabel('Loss')\n",
    "plt.xlabel('Epoch')\n",
    "#plt.ylim(ymin=0.70,ymax=1)\n",
    "plt.show()"
   ]
  },
  {
   "cell_type": "code",
   "execution_count": 20,
   "metadata": {},
   "outputs": [],
   "source": [
    "# predictions for normal test data points\n",
    "encoder_out = model.encoder(normal_val_data).numpy()\n",
    "decoder_out = model.decoder(encoder_out).numpy()\n"
   ]
  },
  {
   "cell_type": "code",
   "execution_count": 21,
   "metadata": {},
   "outputs": [
    {
     "data": {
      "text/plain": [
       "[<matplotlib.lines.Line2D at 0x7f4bb5796520>]"
      ]
     },
     "execution_count": 21,
     "metadata": {},
     "output_type": "execute_result"
    },
    {
     "data": {
      "image/png": "[encoded data removed]",
      "text/plain": [
       "<Figure size 432x288 with 1 Axes>"
      ]
     },
     "metadata": {
      "needs_background": "light"
     },
     "output_type": "display_data"
    }
   ],
   "source": [
    "# plotting normal test data point and its predictiction by the autoencoder\n",
    "plt.plot(normal_test_data[0], 'b')\n",
    "plt.plot(decoder_out[0], 'r')"
   ]
  },
  {
   "cell_type": "code",
   "execution_count": 22,
   "metadata": {},
   "outputs": [],
   "source": [
    "# predictions for anomaly test data points\n",
    "encoder_out_a = model.encoder(mal_test_data).numpy()\n",
    "decoder_out_a = model.decoder(encoder_out_a).numpy()"
   ]
  },
  {
   "cell_type": "code",
   "execution_count": 23,
   "metadata": {},
   "outputs": [
    {
     "data": {
      "text/plain": [
       "[<matplotlib.lines.Line2D at 0x7f4bb56dbbb0>]"
      ]
     },
     "execution_count": 23,
     "metadata": {},
     "output_type": "execute_result"
    },
    {
     "data": {
      "image/png": "[encoded data removed]",
      "text/plain": [
       "<Figure size 432x288 with 1 Axes>"
      ]
     },
     "metadata": {
      "needs_background": "light"
     },
     "output_type": "display_data"
    }
   ],
   "source": [
    "# plotting anomaly test data point and its predictiction by the autoencoder\n",
    "plt.plot(mal_test_data[0], 'b')\n",
    "plt.plot(decoder_out_a[0], 'r')"
   ]
  },
  {
   "cell_type": "code",
   "execution_count": 24,
   "metadata": {},
   "outputs": [],
   "source": [
    "# reconstruction loss for anomaly test data\n",
    "reconstructions_a = model.predict(val_data)\n",
    "val_loss = tf.keras.losses.mae(reconstructions_a, val_data)\n",
    "\n",
    "# Plotting histogram for recontruction loss for anomaly test data\n",
    "# plt.hist(train_loss_a, bins = 20)"
   ]
  },
  {
   "cell_type": "code",
   "execution_count": 25,
   "metadata": {},
   "outputs": [
    {
     "data": {
      "image/png": "[encoded data removed]",
      "text/plain": [
       "<Figure size 432x288 with 1 Axes>"
      ]
     },
     "metadata": {
      "needs_background": "light"
     },
     "output_type": "display_data"
    }
   ],
   "source": [
    "# feature scaling\n",
    "from sklearn.metrics import roc_curve, roc_auc_score\n",
    "from matplotlib import pyplot\n",
    "prob_val = (val_loss-min(val_loss))/(max(val_loss)-min(val_loss))\n",
    "\n",
    "fpr, tpr, thresholds = roc_curve(labels_val,prob_val)\n",
    "# plot the roc curve for the model\n",
    "pyplot.plot([0,1], [0,1], linestyle='--', label='No Skill')\n",
    "pyplot.plot(fpr, tpr, marker='.', label='Logistic')\n",
    "# axis labels\n",
    "pyplot.xlabel('False Positive Rate')\n",
    "pyplot.ylabel('True Positive Rate')\n",
    "pyplot.legend()\n",
    "# show the plot\n",
    "pyplot.show()"
   ]
  },
  {
   "cell_type": "code",
   "execution_count": 26,
   "metadata": {},
   "outputs": [
    {
     "name": "stdout",
     "output_type": "stream",
     "text": [
      "Best Threshold=0.203942, G-Mean=0.928\n"
     ]
    },
    {
     "data": {
      "image/png": "[encoded data removed]",
      "text/plain": [
       "<Figure size 432x288 with 1 Axes>"
      ]
     },
     "metadata": {
      "needs_background": "light"
     },
     "output_type": "display_data"
    }
   ],
   "source": [
    "from numpy import sqrt\n",
    "from numpy import argmax\n",
    "gmeans = sqrt(tpr * (1-fpr))\n",
    "# locate the index of the largest g-mean\n",
    "ix = argmax(gmeans)\n",
    "print('Best Threshold=%f, G-Mean=%.3f' % (thresholds[ix], gmeans[ix]))\n",
    "# plot the roc curve for the model\n",
    "pyplot.plot([0,1], [0,1], linestyle='--', label='No Skill')\n",
    "pyplot.plot(fpr, tpr, marker='.', label='Logistic')\n",
    "pyplot.scatter(fpr[ix], tpr[ix], marker='o', color='black', label='Best')\n",
    "# axis labels\n",
    "pyplot.xlabel('False Positive Rate')\n",
    "pyplot.ylabel('True Positive Rate')\n",
    "pyplot.legend()\n",
    "# show the plot\n",
    "pyplot.show()\n",
    "threshold = thresholds[ix]"
   ]
  },
  {
   "cell_type": "code",
   "execution_count": 27,
   "metadata": {},
   "outputs": [
    {
     "data": {
      "text/plain": [
       "0.960522270742358"
      ]
     },
     "execution_count": 27,
     "metadata": {},
     "output_type": "execute_result"
    }
   ],
   "source": [
    "auc = roc_auc_score(labels_val, prob_val, average=None)\n",
    "auc"
   ]
  },
  {
   "cell_type": "code",
   "execution_count": 28,
   "metadata": {},
   "outputs": [],
   "source": [
    "# Number of correct predictions for Normal test data  \n"
   ]
  },
  {
   "cell_type": "code",
   "execution_count": 29,
   "metadata": {},
   "outputs": [
    {
     "name": "stdout",
     "output_type": "stream",
     "text": [
      "0.9291663755458516\n",
      "              precision    recall  f1-score   support\n",
      "\n",
      "      benign       1.00      0.88      0.93      5000\n",
      "   malicious       0.27      0.98      0.42       229\n",
      "\n",
      "    accuracy                           0.88      5229\n",
      "   macro avg       0.63      0.93      0.68      5229\n",
      "weighted avg       0.97      0.88      0.91      5229\n",
      "\n",
      "[[4379  621]\n",
      " [   4  225]]\n"
     ]
    }
   ],
   "source": [
    "from sklearn.metrics import classification_report, roc_auc_score, confusion_matrix\n",
    "pred_val = [0 if prob_val[i] < threshold else 1 for i in range(len(prob_val))]\n",
    "print(roc_auc_score(labels_val, pred_val, average=None))\n",
    "print(classification_report(labels_val, pred_val, labels=[0, 1], target_names=['benign', 'malicious']))\n",
    "print(confusion_matrix(labels_val, pred_val))"
   ]
  },
  {
   "cell_type": "code",
   "execution_count": 30,
   "metadata": {},
   "outputs": [
    {
     "data": {
      "image/png": "[encoded data removed]",
      "text/plain": [
       "<Figure size 432x288 with 1 Axes>"
      ]
     },
     "metadata": {
      "needs_background": "light"
     },
     "output_type": "display_data"
    }
   ],
   "source": [
    "threshold_fixed = 0.001\n",
    "val_x_predictions = model.predict(val_data)\n",
    "mse = np.mean(np.power(val_data - val_x_predictions, 2), axis=1)\n",
    "error_df = pd.DataFrame({'Reconstruction_error': mse,\n",
    "                        'True_class': labels_val})\n",
    "\n",
    "groups = error_df.groupby('True_class')\n",
    "fig, ax = plt.subplots()\n",
    "for name, group in groups:\n",
    "    ax.plot(group.index, group.Reconstruction_error, marker='o', ms=0.3, linestyle='',\n",
    "            label= \"Malicious\" if name == 1 else \"Normal\")\n",
    "ax.hlines(threshold_fixed, ax.get_xlim()[0], ax.get_xlim()[1], colors=\"r\", zorder=100, label='Threshold')\n",
    "ax.legend()\n",
    "plt.title(\"Reconstruction error for normal and malicious data\")\n",
    "plt.ylabel(\"Reconstruction error\")\n",
    "plt.xlabel(\"Data point index\") \n",
    "plt.show();"
   ]
  },
  {
   "cell_type": "code",
   "execution_count": 31,
   "metadata": {},
   "outputs": [],
   "source": [
    "reconstructions_a = model.predict(test_data)\n",
    "test_loss = tf.keras.losses.mae(reconstructions_a, test_data)"
   ]
  },
  {
   "cell_type": "code",
   "execution_count": 103,
   "metadata": {},
   "outputs": [
    {
     "name": "stdout",
     "output_type": "stream",
     "text": [
      "Best threshold:  0.4477726199290238\n",
      "Best F1-Score:  0.40540540540540543\n"
     ]
    },
    {
     "name": "stderr",
     "output_type": "stream",
     "text": [
      "<ipython-input-103-fed8cf2a95a9>:3: RuntimeWarning: invalid value encountered in true_divide\n",
      "  f1_scores = 2*recall*precision/(recall+precision)\n"
     ]
    }
   ],
   "source": [
    "prob_test = (test_loss-min(test_loss))/(max(test_loss)-min(test_loss))\n",
    "precision, recall, thresholds = precision_recall_curve(labels_test,prob_test)\n",
    "f1_scores = 2*recall*precision/(recall+precision)\n",
    "f1_scores = np.nan_to_num(f1_scores)\n",
    "print('Best threshold: ', thresholds[np.argmax(f1_scores)])\n",
    "print('Best F1-Score: ', np.max(f1_scores))\n",
    "threshold = thresholds[np.argmax(f1_scores)]"
   ]
  },
  {
   "cell_type": "code",
   "execution_count": null,
   "metadata": {},
   "outputs": [],
   "source": []
  },
  {
   "cell_type": "code",
   "execution_count": 389,
   "metadata": {},
   "outputs": [
    {
     "data": {
      "image/png": "[encoded data removed]",
      "text/plain": [
       "<Figure size 432x288 with 1 Axes>"
      ]
     },
     "metadata": {
      "needs_background": "light"
     },
     "output_type": "display_data"
    },
    {
     "name": "stdout",
     "output_type": "stream",
     "text": [
      "Best Threshold=0.251128, G-Mean=0.946\n"
     ]
    },
    {
     "data": {
      "image/png": "[encoded data removed]",
      "text/plain": [
       "<Figure size 432x288 with 1 Axes>"
      ]
     },
     "metadata": {
      "needs_background": "light"
     },
     "output_type": "display_data"
    }
   ],
   "source": [
    "# feature scaling\n",
    "from sklearn.metrics import roc_curve, roc_auc_score\n",
    "from matplotlib import pyplot\n",
    "prob_test = (test_loss-min(test_loss))/(max(test_loss)-min(test_loss))\n",
    "\n",
    "fpr, tpr, thresholds = roc_curve(labels_test,prob_test)\n",
    "# plot the roc curve for the model\n",
    "pyplot.plot([0,1], [0,1], linestyle='--', label='No Skill')\n",
    "pyplot.plot(fpr, tpr, marker='.', label='Logistic')\n",
    "# axis labels\n",
    "pyplot.xlabel('False Positive Rate')\n",
    "pyplot.ylabel('True Positive Rate')\n",
    "pyplot.legend()\n",
    "# show the plot\n",
    "pyplot.show()\n",
    "\n",
    "from numpy import sqrt\n",
    "from numpy import argmax\n",
    "gmeans = sqrt(tpr * (1-fpr))\n",
    "# locate the index of the largest g-mean\n",
    "ix = argmax(gmeans)\n",
    "print('Best Threshold=%f, G-Mean=%.3f' % (thresholds[ix], gmeans[ix]))\n",
    "# plot the roc curve for the model\n",
    "pyplot.plot([0,1], [0,1], linestyle='--', label='No Skill')\n",
    "pyplot.plot(fpr, tpr, marker='.', label='Logistic')\n",
    "pyplot.scatter(fpr[ix], tpr[ix], marker='o', color='black', label='Best')\n",
    "# axis labels\n",
    "pyplot.xlabel('False Positive Rate')\n",
    "pyplot.ylabel('True Positive Rate')\n",
    "pyplot.legend()\n",
    "# show the plot\n",
    "pyplot.show()\n",
    "threshold = thresholds[ix]\n",
    "\n"
   ]
  },
  {
   "cell_type": "code",
   "execution_count": 32,
   "metadata": {},
   "outputs": [
    {
     "data": {
      "text/plain": [
       "0.20394239713520462"
      ]
     },
     "execution_count": 32,
     "metadata": {},
     "output_type": "execute_result"
    }
   ],
   "source": [
    "threshold"
   ]
  },
  {
   "cell_type": "code",
   "execution_count": 33,
   "metadata": {},
   "outputs": [
    {
     "name": "stdout",
     "output_type": "stream",
     "text": [
      "0.9602995918367347\n"
     ]
    },
    {
     "data": {
      "text/plain": [
       "5245"
      ]
     },
     "execution_count": 33,
     "metadata": {},
     "output_type": "execute_result"
    }
   ],
   "source": [
    "# Number of correct predictions for Normal test data  \n",
    "prob_test = (test_loss-min(test_loss))/(max(test_loss)-min(test_loss))\n",
    "print(roc_auc_score(labels_test, prob_test, average=None))\n",
    "pred_test = [0 if prob_test[i] < threshold else 1 for i in range(len(prob_test))]\n",
    "len(pred_test)"
   ]
  },
  {
   "cell_type": "markdown",
   "metadata": {},
   "source": [
    "# original result"
   ]
  },
  {
   "cell_type": "code",
   "execution_count": 34,
   "metadata": {
    "scrolled": true
   },
   "outputs": [
    {
     "name": "stdout",
     "output_type": "stream",
     "text": [
      "Test Evaluation\n",
      "0.9378183673469388\n",
      "              precision    recall  f1-score   support\n",
      "\n",
      "           0       1.00      0.88      0.94      5000\n",
      "           1       0.29      0.99      0.45       245\n",
      "\n",
      "    accuracy                           0.89      5245\n",
      "   macro avg       0.65      0.94      0.70      5245\n",
      "weighted avg       0.97      0.89      0.92      5245\n",
      "\n",
      "[[4419  581]\n",
      " [   2  243]]\n"
     ]
    }
   ],
   "source": [
    "from sklearn.metrics import classification_report, roc_auc_score, confusion_matrix\n",
    "print(\"Test Evaluation\")\n",
    "print(roc_auc_score(labels_test, pred_test, average=None))\n",
    "print(classification_report(labels_test ,pred_test,  labels=[0, 1]))\n",
    "print(confusion_matrix(labels_test ,pred_test))"
   ]
  },
  {
   "cell_type": "markdown",
   "metadata": {},
   "source": [
    "# improve with port profile"
   ]
  },
  {
   "cell_type": "code",
   "execution_count": 37,
   "metadata": {
    "scrolled": true
   },
   "outputs": [],
   "source": [
    "# add filter step\n",
    "\n",
    "# open clustering profile\n",
    "df_profile = pd.read_csv(\"/home/andrewngo/Desktop/MLTracker/server_profile_prop_labels_27.csv\")\n",
    "host_profile = df_profile[[\"profile_labels\", \"computer\"]]\n",
    "host_profile = host_profile.set_index('computer').to_dict()['profile_labels']\n",
    "\n",
    "\n",
    "# create a dict of path and labels \n",
    "label_dict = dict()\n",
    "for i in range(len(pred_test)):\n",
    "    label_dict[test_data_path[i]] = i\n",
    "\n",
    "path_to_index = convert_nodeid_to_user_CUC(label_dict, computer2nodeid, user2nodeid)\n",
    "index_to_path = {path_to_index[i]:i for i in path_to_index}\n",
    "# filter the false positive (bruce force)\n",
    "\n",
    "new_pred = []\n",
    "for i in range(len(pred_test)):\n",
    "    if pred_test[i] == 1:\n",
    "        try: \n",
    "            if host_profile[index_to_path[i][0]] == host_profile[index_to_path[i][2]]:\n",
    "                new_pred.append(0)\n",
    "            else:\n",
    "                new_pred.append(pred_test[i])\n",
    "        except:\n",
    "            new_pred.append(pred_test[i])\n",
    "    else:\n",
    "        new_pred.append(pred_test[i])\n",
    "temp = new_pred\n",
    "\n",
    "new_pred = []\n",
    "for i in range(len(pred_test)):\n",
    "    if pred_test[i] == 1:\n",
    "        try: \n",
    "            if host_profile[index_to_path[i][0]] == host_profile[index_to_path[i][2]]:\n",
    "                new_pred.append(0)\n",
    "            else:\n",
    "                new_pred.append(pred_test[i])\n",
    "        except:\n",
    "            new_pred.append(pred_test[i])\n",
    "    else:\n",
    "        new_pred.append(pred_test[i])\n",
    "        \n",
    "        \n",
    "        \n",
    "        \n",
    "        \n",
    "        \n",
    "# label_dict"
   ]
  },
  {
   "cell_type": "code",
   "execution_count": 38,
   "metadata": {},
   "outputs": [
    {
     "name": "stdout",
     "output_type": "stream",
     "text": [
      "Test Evaluation\n",
      "0.9580367346938775\n",
      "              precision    recall  f1-score   support\n",
      "\n",
      "           0       1.00      0.93      0.96      5000\n",
      "           1       0.42      0.98      0.58       245\n",
      "\n",
      "    accuracy                           0.93      5245\n",
      "   macro avg       0.71      0.96      0.77      5245\n",
      "weighted avg       0.97      0.93      0.95      5245\n",
      "\n",
      "[[4662  338]\n",
      " [   4  241]]\n"
     ]
    }
   ],
   "source": [
    "from sklearn.metrics import classification_report, roc_auc_score, confusion_matrix\n",
    "print(\"Test Evaluation\")\n",
    "print(roc_auc_score(labels_test, new_pred, average=None))\n",
    "print(classification_report(labels_test ,new_pred,  labels=[0, 1]))\n",
    "print(confusion_matrix(labels_test ,new_pred))"
   ]
  },
  {
   "cell_type": "code",
   "execution_count": 39,
   "metadata": {},
   "outputs": [],
   "source": [
    "# add filter step\n",
    "\n",
    "# open clustering profile\n",
    "df_profile = pd.read_csv(\"/home/andrewngo/Desktop/MLTracker/server_profile_prop_labels_30.csv\")\n",
    "host_profile = df_profile[[\"profile_labels\", \"computer\"]]\n",
    "host_profile = host_profile.set_index('computer').to_dict()['profile_labels']\n",
    "\n",
    "\n",
    "# create a dict of path and labels \n",
    "label_dict = dict()\n",
    "for i in range(len(pred_test)):\n",
    "    label_dict[test_data_path[i]] = i\n",
    "\n",
    "path_to_index = convert_nodeid_to_user_CUC(label_dict, computer2nodeid, user2nodeid)\n",
    "index_to_path = {path_to_index[i]:i for i in path_to_index}\n",
    "# filter the false positive (bruce force)\n",
    "\n",
    "new_pred = []\n",
    "for i in range(len(pred_test)):\n",
    "    if pred_test[i] == 1:\n",
    "        try: \n",
    "            if host_profile[index_to_path[i][0]] == host_profile[index_to_path[i][2]]:\n",
    "                new_pred.append(0)\n",
    "            else:\n",
    "                new_pred.append(pred_test[i])\n",
    "        except:\n",
    "            new_pred.append(pred_test[i])\n",
    "    else:\n",
    "        new_pred.append(pred_test[i])\n",
    "temp = new_pred\n",
    "\n",
    "new_pred = []\n",
    "for i in range(len(pred_test)):\n",
    "    if pred_test[i] == 1:\n",
    "        try: \n",
    "            if host_profile[index_to_path[i][0]] == host_profile[index_to_path[i][2]]:\n",
    "                new_pred.append(0)\n",
    "            else:\n",
    "                new_pred.append(pred_test[i])\n",
    "        except:\n",
    "            new_pred.append(pred_test[i])\n",
    "    else:\n",
    "        new_pred.append(pred_test[i])\n",
    "        \n",
    "        \n",
    "        \n",
    "        \n",
    "        \n",
    "        \n",
    "# label_dict"
   ]
  },
  {
   "cell_type": "code",
   "execution_count": 40,
   "metadata": {},
   "outputs": [
    {
     "name": "stdout",
     "output_type": "stream",
     "text": [
      "Test Evaluation\n",
      "0.730965306122449\n",
      "              precision    recall  f1-score   support\n",
      "\n",
      "           0       0.98      0.94      0.96      5000\n",
      "           1       0.29      0.53      0.37       245\n",
      "\n",
      "    accuracy                           0.92      5245\n",
      "   macro avg       0.63      0.73      0.66      5245\n",
      "weighted avg       0.94      0.92      0.93      5245\n",
      "\n",
      "[[4677  323]\n",
      " [ 116  129]]\n"
     ]
    }
   ],
   "source": [
    "from sklearn.metrics import classification_report, roc_auc_score, confusion_matrix\n",
    "print(\"Test Evaluation\")\n",
    "print(roc_auc_score(labels_test, new_pred, average=None))\n",
    "print(classification_report(labels_test ,new_pred,  labels=[0, 1]))\n",
    "print(confusion_matrix(labels_test ,new_pred))"
   ]
  },
  {
   "cell_type": "markdown",
   "metadata": {},
   "source": [
    "# Evaluate"
   ]
  },
  {
   "cell_type": "code",
   "execution_count": 36,
   "metadata": {},
   "outputs": [],
   "source": [
    "# find the false positive \n",
    "def false_positive_path(path, labels, pred, prob):\n",
    "    return_path = dict()\n",
    "    for i in range(len(pred)):\n",
    "        if pred[i] == 0 and labels[i] == 1:\n",
    "            return_path[path[i]] = float(prob[i])\n",
    "    return return_path\n",
    "def true_positive_path(path, labels, pred, prob):\n",
    "    return_path = dict()\n",
    "    for i in range(len(pred)):\n",
    "        if pred[i] == 0 and labels[i] == 0:\n",
    "            return_path[path[i]] = float(prob[i])\n",
    "    return return_path\n",
    "def false_negative_path(path, labels, pred, prob):\n",
    "    return_path = dict()\n",
    "    for i in range(len(pred)):\n",
    "        if pred[i] == 1 and labels[i] == 0:\n",
    "            return_path[path[i]] = float(prob[i])\n",
    "    return return_path\n",
    "def true_negative_path(path, labels, pred, prob):\n",
    "    return_path = dict()\n",
    "    for i in range(len(pred)):\n",
    "        if pred[i] == 1 and labels[i] == 1:\n",
    "            return_path[path[i]] = float(prob[i])\n",
    "    return return_path\n",
    "\n",
    "\n",
    "#convert nodeid to user\n",
    "def convert_nodeid_to_user_CUC(path_list, computer2nodeid, user2nodeid):\n",
    "    return_path = dict()\n",
    "    nodeid2computer = {computer2nodeid[i]:i for i in computer2nodeid}\n",
    "    nodeid2user = {user2nodeid[i]:i for i in user2nodeid}\n",
    "    for i in path_list:\n",
    "        i_convert = (nodeid2computer[i[0]], nodeid2user[i[1] - model_metapath2vec.start[\"User\"]], nodeid2computer[i[2]])\n",
    "        return_path[i_convert] = path_list[i]\n",
    "    return return_path"
   ]
  },
  {
   "cell_type": "code",
   "execution_count": 81,
   "metadata": {},
   "outputs": [],
   "source": [
    "false_positive_path_test = false_positive_path(test_data_path, labels_test, pred_test, prob_test)\n",
    "false_negative_path_test = false_negative_path(test_data_path, labels_test, pred_test, prob_test)\n",
    "true_positive_path_test = true_positive_path(test_data_path, labels_test, pred_test, prob_test)\n",
    "true_negative_path_test = true_negative_path(test_data_path, labels_test, pred_test, prob_test)\n",
    "\n",
    "\n",
    "\n",
    "\n",
    "false_negative_path_test = convert_nodeid_to_user_CUC(false_negative_path_test, computer2nodeid, user2nodeid)\n",
    "false_positive_path_test = convert_nodeid_to_user_CUC(false_positive_path_test, computer2nodeid, user2nodeid)\n",
    "true_negative_path_test = convert_nodeid_to_user_CUC(true_negative_path_test, computer2nodeid, user2nodeid)\n",
    "true_positive_path_test = convert_nodeid_to_user_CUC(true_positive_path_test, computer2nodeid, user2nodeid)\n",
    "\n",
    "test_result = dict()\n",
    "test_result[\"false_negative\"] = false_negative_path_test\n",
    "test_result[\"false_positive\"] = false_positive_path_test\n",
    "test_result[\"true_negative\"] = true_negative_path_test\n",
    "test_result[\"true_positive\"] = true_positive_path_test\n",
    "\n"
   ]
  },
  {
   "cell_type": "code",
   "execution_count": 82,
   "metadata": {},
   "outputs": [
    {
     "data": {
      "text/plain": [
       "{('C1817', 'U1293', 'C528'): 0.2772018046647159,\n",
       " ('C449', 'U3576', 'C449'): 0.3129829884132889,\n",
       " ('C14455', 'U6478', 'C14455'): 0.24165305234236847,\n",
       " ('C449', 'U46', 'U20'): 0.27019812605319454,\n",
       " ('C449', 'U2869', 'C449'): 0.26036226700385373,\n",
       " ('C1737', 'U6215', 'C1737'): 0.3467866238369115,\n",
       " ('C7182', 'SYSTEM', 'C7182'): 0.20835166022737112,\n",
       " ('C18188', 'U307', 'C4759'): 0.2253422176991151,\n",
       " ('C15556', 'U7036', 'C15556'): 0.35885583637547613,\n",
       " ('C5439', 'U4366', 'C5439'): 0.23484517950132883,\n",
       " ('C6460', 'U920', 'C625'): 0.2103906360508302,\n",
       " ('C25076', 'U4195', 'C25076'): 0.3888955813422336,\n",
       " ('C8398', 'U4136', 'C2389'): 0.32884856744660185,\n",
       " ('C6005', 'U1907', 'C2008'): 0.24852256304804882,\n",
       " ('C10790', 'U3328', 'C467'): 0.2317223425198661,\n",
       " ('C1665', 'U7364', 'C1665'): 0.41967228652068567,\n",
       " ('C2651', 'U4279', 'C2651'): 0.25508695566892414,\n",
       " ('C15255', 'U6875', 'C15255'): 0.27936089516880275,\n",
       " ('C449', 'U1492', 'C449'): 0.2482707398558592,\n",
       " ('C346', 'U8721', 'C346'): 0.7385841293703407,\n",
       " ('C1319', 'U6463', 'C467'): 0.2122173971982823,\n",
       " ('C3300', 'U3381', 'C3300'): 0.5016884211437582,\n",
       " ('C21068', 'U4452', 'U661'): 0.33971170796080397,\n",
       " ('C1797', 'U256', 'C2651'): 0.42185961824370916,\n",
       " ('C5618', 'U3837', 'C5618'): 0.4764283075740154,\n",
       " ('C1993', 'U2903', 'C5618'): 0.2115020540173082,\n",
       " ('C21974', 'U6241', 'C21974'): 0.2941976371442448,\n",
       " ('C14739', 'U6567', 'C1065'): 0.2247184743236298,\n",
       " ('C23900', 'U3771', 'C5463'): 0.2980467108016915,\n",
       " ('C1025', 'U11154', 'C1025'): 0.5230636730271042,\n",
       " ('C3774', 'U5707', 'C3774'): 0.9086968044977437,\n",
       " ('C651', 'U453', 'C651'): 0.22088639360205234,\n",
       " ('C2038', 'U7549', 'C2038'): 0.5795399170670389,\n",
       " ('C10125', 'U3957', 'C10125'): 0.35103036873977783,\n",
       " ('C2582', 'U971', 'C2106'): 0.2273563452239095,\n",
       " ('C449', 'U3908', 'C449'): 0.2753037873754987,\n",
       " ('C7004', 'U1735', 'C2058'): 0.23973677062832133,\n",
       " ('C1183', 'U7879', 'C1183'): 0.3384920961998955,\n",
       " ('C15721', 'U7469', 'C2962'): 0.26888270389014174,\n",
       " ('C20309', 'U9627', 'C3443'): 0.22984303670823822,\n",
       " ('C7575', 'U288', 'C2651'): 0.27876343836456313,\n",
       " ('C22662', 'U1592', 'C457'): 0.3160141444134346,\n",
       " ('C20946', 'U619', 'C20946'): 0.2308053955060165,\n",
       " ('C20496', 'U5424', 'C743'): 0.21983107330779936,\n",
       " ('C1345', 'U789', 'C1065'): 0.2118927984070163,\n",
       " ('C2855', 'U6216', 'C2855'): 0.3269993724660557,\n",
       " ('C14152', 'U6220', 'C14152'): 0.29497151469993316,\n",
       " ('C8847', 'U9362', 'C8847'): 0.42044873267108895,\n",
       " ('C3249', 'U5561', 'C3249'): 0.30891200382215744,\n",
       " ('C11', 'SYSTEM', 'C11'): 0.2082688533146306,\n",
       " ('C19444', 'U9263', 'C1640'): 0.3123982541100847,\n",
       " ('C23571', 'U4327', 'C17710'): 0.39446365293537694,\n",
       " ('C21262', 'U525', 'C5766'): 0.27414065572719754,\n",
       " ('C3309', 'U7292', 'C3309'): 0.33065891740924286,\n",
       " ('C2551', 'U3624', 'C231'): 0.2902429905039226,\n",
       " ('C1319', 'U6317', 'C2106'): 0.39424045373589706,\n",
       " ('C3139', 'U1958', 'C393'): 0.34280076085064215,\n",
       " ('C12568', 'U5251', 'C1438'): 0.2397931122949694,\n",
       " ('C15339', 'U8557', 'C15339'): 0.3214764154118356,\n",
       " ('C5283', 'NETWORK SERVICE', 'C5283'): 0.30366344358941394,\n",
       " ('C2868', 'U10135', 'C2868'): 0.7770049648017102,\n",
       " ('C12820', 'U5599', 'C4289'): 0.233387861528346,\n",
       " ('C4029', 'U3835', 'C1921'): 0.22586550019766227,\n",
       " ('C20948', 'U7813', 'C20948'): 0.2794600847153822,\n",
       " ('C17266', 'U3904', 'C2173'): 0.2688345495461187,\n",
       " ('C2846', 'U1048', 'C467'): 0.2418237271797854,\n",
       " ('C20413', 'U4281', 'C1152'): 0.40702726308209036,\n",
       " ('C1015', 'U5017', 'C1015'): 0.3545274950413175,\n",
       " ('C1487', 'U10446', 'C1487'): 0.5912808084462192,\n",
       " ('C27192', 'U9496', 'C27192'): 0.2236820987817553,\n",
       " ('C14829', 'U824', 'U661'): 0.5168383034448906,\n",
       " ('C291', 'U5002', 'C3699'): 0.4042375650459841,\n",
       " ('C2162', 'U1960', 'C2162'): 0.24858782523159517,\n",
       " ('C449', 'U6555', 'C449'): 0.2800352196170313,\n",
       " ('C1319', 'U3117', 'C529'): 0.37497669558813523,\n",
       " ('C17392', 'U1478', 'U63'): 0.47865613915377636,\n",
       " ('C1319', 'U7360', 'C612'): 0.35149239734428844,\n",
       " ('C307', 'U5603', 'C625'): 0.2469567193236071,\n",
       " ('C231', 'ANONYMOUS LOGON', 'C528'): 0.20737087044224645,\n",
       " ('C291', 'U4714', 'C291'): 0.4407026596456309,\n",
       " ('C20393', 'U4787', 'C20393'): 0.5444278199504435,\n",
       " ('C291', 'U11273', 'C291'): 0.36856021228035585,\n",
       " ('C1006', 'U21', 'C1006'): 0.2376249538726839,\n",
       " ('C1355', 'U4227', 'C1355'): 0.5130414674581586,\n",
       " ('C18190', 'U4353', 'C18190'): 0.5430566533462126,\n",
       " ('C22738', 'U3568', 'C22738'): 0.3461672043761292,\n",
       " ('C2162', 'U4216', 'C2162'): 0.22241902341749173,\n",
       " ('C22668', 'U126', 'C2651'): 0.20668769574575074,\n",
       " ('C10', 'U2860', 'C10'): 0.28236355399792473,\n",
       " ('C543', 'U1522', 'C243'): 0.3232578809612176,\n",
       " ('C17153', 'U7510', 'C457'): 0.30766823386458053,\n",
       " ('C3063', 'U5063', 'C1015'): 0.23554624310205827,\n",
       " ('C5224', 'U288', 'C457'): 0.26270150652727103,\n",
       " ('C3953', 'U2460', 'C3953'): 0.6124153246033823,\n",
       " ('C22320', 'U7510', 'C22320'): 0.4044638265366862,\n",
       " ('C1036', 'U4942', 'C5463'): 0.25387852564187385,\n",
       " ('C368', 'U13', 'C529'): 0.3040608080344327,\n",
       " ('C3000', 'LOCAL SERVICE', 'C3000'): 0.21889147726667646,\n",
       " ('C197', 'U7752', 'C197'): 0.43539970068627726,\n",
       " ('C10161', 'U4033', 'C10161'): 0.2137064286143822,\n",
       " ('C1881', 'U3190', 'C1881'): 0.21425456328517808,\n",
       " ('C1182', 'U1207', 'C13510'): 0.2901498236656964,\n",
       " ('C17619', 'U6801', 'C1877'): 0.28549705770373657,\n",
       " ('C22337', 'U8661', 'C528'): 0.22890973814478602,\n",
       " ('C72', 'U1630', 'C72'): 0.49922761595050985,\n",
       " ('C2480', 'U139', 'C529'): 0.2363509342044135,\n",
       " ('C8209', 'U3005', 'C92'): 0.30256025676781106,\n",
       " ('C3756', 'U1382', 'C719'): 0.2567071487958756,\n",
       " ('C3824', 'U4671', 'C3824'): 0.24157589224172574,\n",
       " ('C291', 'U78', 'C291'): 0.360576514137378,\n",
       " ('C11231', 'U5663', 'C529'): 0.21733620855280303,\n",
       " ('C3310', 'U5200', 'C2855'): 0.31601616512612224,\n",
       " ('C2772', 'U1653', 'C754'): 0.22230267350202254,\n",
       " ('C7734', 'U5446', 'C923'): 0.3836912838238509,\n",
       " ('C5243', 'U2777', 'C3398'): 0.2409419729769481,\n",
       " ('C22756', 'U1383', 'TGT'): 0.3926775552526421,\n",
       " ('C2519', 'U5828', 'C2519'): 0.4703727213155961,\n",
       " ('C20800', 'U7001', 'C1702'): 0.252760469237437,\n",
       " ('C21311', 'U788', 'C754'): 0.24528031136728956,\n",
       " ('C3063', 'U5063', 'C3173'): 0.21119083662385915,\n",
       " ('C22585', 'U3671', 'C22585'): 0.27284731465184214,\n",
       " ('C1691', 'U3493', 'C1691'): 0.3918909607104521,\n",
       " ('C13452', 'U5802', 'C3298'): 0.27419654980463615,\n",
       " ('C362', 'U8813', 'C362'): 0.8455169021371175,\n",
       " ('C13684', 'U9321', 'C13684'): 0.7193396625419696,\n",
       " ('C308', 'U1902', 'C308'): 0.7679466266250935,\n",
       " ('C22984', 'U1958', 'C22984'): 0.2554395440933627,\n",
       " ('C921', 'U1806', 'C921'): 0.30514073125360336,\n",
       " ('C10171', 'SYSTEM', 'C10171'): 0.4127239700244124,\n",
       " ('C1973', 'U748', 'C1973'): 0.5583949560245897,\n",
       " ('C22231', 'U10461', 'C96'): 0.2130795612578108,\n",
       " ('C1810', 'U314', 'C1810'): 0.6303335312964548,\n",
       " ('C3326', 'U25', 'U25'): 0.2057372225861751,\n",
       " ('C1915', 'U2714', 'C3173'): 0.2727867639050511,\n",
       " ('C6332', 'U3771', 'C2651'): 0.22299467082141916,\n",
       " ('C609', 'SYSTEM', 'C609'): 0.22699665195487695,\n",
       " ('C5769', 'U775', 'C5769'): 0.46587251544301206,\n",
       " ('C15126', 'U10064', 'C346'): 0.5109375367906017,\n",
       " ('C16518', 'U4327', 'C586'): 0.20762433273242756,\n",
       " ('C21192', 'U6812', 'C2106'): 0.2110188177423265,\n",
       " ('C23275', 'U5214', 'C23275'): 0.5822044343271832,\n",
       " ('C2385', 'U7457', 'C3881'): 0.3554906341121048,\n",
       " ('C11971', 'U4895', 'C6438'): 0.3272329606192898,\n",
       " ('C2987', 'U311', 'C612'): 0.24272323701461804,\n",
       " ('C449', 'U616', 'C449'): 0.26686830053300314,\n",
       " ('C1991', 'U249', 'C8406'): 0.3662534381812039,\n",
       " ('C13713', 'U1048', 'C801'): 0.24582438955902255,\n",
       " ('C23158', 'U2864', 'C586'): 0.2511442669577317,\n",
       " ('C17895', 'U8321', 'C2737'): 0.44697599582941994,\n",
       " ('C13273', 'U1653', 'C13273'): 0.3075135036426896,\n",
       " ('C561', 'U9947', 'C561'): 0.44353545240030784,\n",
       " ('C979', 'U143', 'C1719'): 0.3105117637143986,\n",
       " ('C3303', 'U5652', 'C1790'): 0.26307748817650356,\n",
       " ('C16670', 'SYSTEM', 'C16670'): 0.22668178999833927,\n",
       " ('C1267', 'U114', 'C529'): 0.20605813778761914,\n",
       " ('C2651', 'U8353', 'C2651'): 0.27526624413047135,\n",
       " ('C2651', 'U4673', 'C2651'): 0.20773200058878336,\n",
       " ('C20325', 'ANONYMOUS LOGON', 'C20325'): 0.38823110817199885,\n",
       " ('C11451', 'U4719', 'C2438'): 0.3943880641994353,\n",
       " ('C17682', 'U5331', 'C17682'): 0.21898334333484737,\n",
       " ('C22269', 'U1871', 'C22269'): 0.2397386664289078,\n",
       " ('C1665', 'U7488', 'C1665'): 0.45661755522114467,\n",
       " ('C21321', 'U9362', 'C21321'): 0.35554222977432315,\n",
       " ('C164', 'U518', 'C164'): 0.21438633622409484,\n",
       " ('C801', 'U6045', 'C801'): 0.294268346194559,\n",
       " ('C1438', 'U5254', 'C1438'): 0.2793033781409354,\n",
       " ('C8784', 'U1456', 'C8784'): 0.2508161971784716,\n",
       " ('C4517', 'U4031', 'C4517'): 0.2606550473521281,\n",
       " ('C22171', 'U6633', 'C3398'): 0.21552827018295806,\n",
       " ('C5828', 'U6570', 'C5828'): 0.2121949798572338,\n",
       " ('C1691', 'NETWORK SERVICE', 'C1691'): 0.32642135836241515,\n",
       " ('C24564', 'U6161', 'C22100'): 0.24913726634086408,\n",
       " ('C3156', 'U4431', 'C586'): 0.24589162593865987,\n",
       " ('C3206', 'U619', 'C2438'): 0.4329946722526386,\n",
       " ('C2693', 'U369', 'C2693'): 0.4512290926151618,\n",
       " ('C13670', 'U8515', 'C13670'): 0.46717958234584833,\n",
       " ('C1509', 'U114', 'C529'): 0.23253782096279996,\n",
       " ('C1930', 'U106', 'C1877'): 0.27935661048551275,\n",
       " ('C1522', 'U886', 'C2983'): 0.3039997075951352,\n",
       " ('C3271', 'U1321', 'C3249'): 0.22220977109220375,\n",
       " ('C11362', 'U4753', 'C1124'): 0.3391326932016386,\n",
       " ('C3421', 'U1522', 'C3421'): 0.5606829726555876,\n",
       " ('C2892', 'U78', 'C2892'): 0.35526243037250116,\n",
       " ('C5769', 'U917', 'C5769'): 0.39435223330511293,\n",
       " ('C6963', 'U2447', 'C6963'): 0.20565551118809233,\n",
       " ('C17353', 'U8016', 'C5733'): 0.2308265778035012,\n",
       " ('C307', 'U6764', 'U20'): 0.5023335153276394,\n",
       " ('C5224', 'U995', 'C2106'): 0.253058353541803,\n",
       " ('C19495', 'U9212', 'C586'): 0.20760453669182286,\n",
       " ('C182', 'U4353', 'C1640'): 0.3181499783796063,\n",
       " ('C1725', 'ANONYMOUS LOGON', 'C1725'): 0.27428219147163097,\n",
       " ('C1871', 'U3714', 'C1871'): 0.8816040203025383,\n",
       " ('C223', 'U726', 'C223'): 0.34335295819345335,\n",
       " ('C6308', 'U2085', 'C15744'): 0.2698856519596388,\n",
       " ('C368', 'SYSTEM', 'C368'): 0.4684630048616202,\n",
       " ('C2344', 'U1328', 'C2344'): 0.3987531869759771,\n",
       " ('C19645', 'U7480', 'C467'): 0.22304501416095995,\n",
       " ('C24192', 'U5214', 'C586'): 0.3247808270337624,\n",
       " ('C1900', 'U9893', 'C9302'): 0.5293142558495326,\n",
       " ('C15780', 'U10944', 'C2106'): 0.22075975756964167,\n",
       " ('C3873', 'U731', 'C1640'): 0.21516441380214432,\n",
       " ('C1038', 'U247', 'C1947'): 0.27657377982828835,\n",
       " ('C14418', 'U6365', 'C14418'): 0.23452545269758618,\n",
       " ('C280', 'U251', 'C586'): 0.23866522231779916,\n",
       " ('C1816', 'ANONYMOUS LOGON', 'C754'): 0.21994200632466482,\n",
       " ('C9011', 'U7632', 'C9011'): 0.4106560799175395,\n",
       " ('C2707', 'U6194', 'C2707'): 0.25661251384212125,\n",
       " ('C19556', 'U8809', 'C5618'): 0.23966160341377143,\n",
       " ('C1901', 'U293', 'C529'): 0.2602388011239359,\n",
       " ('C2137', 'U6265', 'C1723'): 0.41544570790874413,\n",
       " ('C20069', 'U1916', 'C20069'): 0.27152974904972854,\n",
       " ('C3359', 'U4546', 'C2553'): 0.2475798496267202,\n",
       " ('C2554', 'U342', 'C457'): 0.36043463169064616,\n",
       " ('C21708', 'U2944', 'C21708'): 0.24838279894019272,\n",
       " ('C1883', 'U1164', 'C1883'): 0.25301279802096666,\n",
       " ('C10790', 'U7360', 'C528'): 0.22633450118995802,\n",
       " ('C5000', 'U604', 'C5734'): 0.37281102979268793,\n",
       " ('C1650', 'U230', 'C423'): 0.23331702047774505,\n",
       " ('C1610', 'U8946', 'C1610'): 0.4918646574885318,\n",
       " ('C12523', 'U5238', 'C457'): 0.21953435116620243,\n",
       " ('C13528', 'U5881', 'C3811'): 0.22034737534514018,\n",
       " ('C1737', 'U4550', 'C1737'): 0.304180466454743,\n",
       " ('C24826', 'U6891', 'C24826'): 0.3196111986872657,\n",
       " ('C3443', 'U1949', 'C3443'): 0.5498810353192648,\n",
       " ('C1929', 'U59', 'C529'): 0.4318483254850772,\n",
       " ('C3173', 'U4345', 'C3173'): 0.2965719925471992,\n",
       " ('C2368', 'U9499', 'C2368'): 0.35239522842878085,\n",
       " ('C2901', 'U14', 'C2901'): 0.2804195617029658,\n",
       " ('C449', 'U1582', 'C449'): 0.3025349836862431,\n",
       " ('C7984', 'U1653', 'C7984'): 0.20684520231619258,\n",
       " ('C22047', 'U7108', 'C585'): 0.25107872942162934,\n",
       " ('C18718', 'U8798', 'C18718'): 0.2440044344736894,\n",
       " ('C5458', 'U5501', 'C5457'): 0.37867388417623415,\n",
       " ('C482', 'U3473', 'C1065'): 0.22590639780575605,\n",
       " ('C2892', 'U1511', 'C2892'): 0.28296984834348327,\n",
       " ('C3173', 'U3771', 'C5463'): 0.36473547700285813,\n",
       " ('C1183', 'U7086', 'C1183'): 0.3591648929173359,\n",
       " ('C3287', 'U1023', 'C3287'): 0.7023744052427301,\n",
       " ('C849', 'U1519', 'C849'): 0.2253286758338959,\n",
       " ('C8887', 'U3344', 'C8887'): 0.251124622092596,\n",
       " ('C23330', 'U611', 'C586'): 0.2268136955220871,\n",
       " ('C24189', 'U139', 'C2651'): 0.22273560374143667,\n",
       " ('C2951', 'ANONYMOUS LOGON', 'C754'): 0.32847388961270557,\n",
       " ('C451', 'U1294', 'C5825'): 0.49558104763978217,\n",
       " ('C36', 'U7907', 'C36'): 0.4375886043230137,\n",
       " ('C3699', 'U728', 'C3699'): 0.43645789043067584,\n",
       " ('C15180', 'U6813', 'C1065'): 0.3353373174664478,\n",
       " ('C22781', 'U1592', 'C625'): 0.3081493796145256,\n",
       " ('C4348', 'U9419', 'C4348'): 0.4608626128516346,\n",
       " ('C2651', 'U3829', 'C2651'): 0.3268474106154111,\n",
       " ('C24215', 'U4327', 'TGT'): 0.21484544491549737,\n",
       " ('C22204', 'U6813', 'C467'): 0.26840652517832536,\n",
       " ('C10022', 'U3568', 'C1640'): 0.20883775821715167,\n",
       " ('C5188', 'U9584', 'C5716'): 0.23192259647970265,\n",
       " ('C1964', 'U134', 'U20'): 0.21329659502370088,\n",
       " ('C3430', 'U4688', 'C2378'): 0.5692848225325521,\n",
       " ('C21728', 'U8259', 'C21728'): 0.7519033742721701,\n",
       " ('C1023', 'U3228', 'C5716'): 0.24994248522189738,\n",
       " ('C765', 'U10078', 'C1790'): 0.27011776679761806,\n",
       " ('C14', 'SYSTEM', 'C14'): 0.30805602947178023,\n",
       " ('C2038', 'U297', 'C2038'): 0.551335954374178,\n",
       " ('C19025', 'U8930', 'C9157'): 0.22819658246471264,\n",
       " ('C5012', 'U1145', 'C2106'): 0.23994709964908212,\n",
       " ('C14919', 'U4246', 'C14919'): 0.35484852447847676,\n",
       " ('C1', 'U792', 'C1'): 0.4157601244544816,\n",
       " ('C5297', 'U1653', 'C5297'): 0.5516773434544784,\n",
       " ('C19848', 'U9395', 'C19848'): 0.4045184537949013,\n",
       " ('C1234', 'U5846', 'C1234'): 0.2908368724977458,\n",
       " ('C5865', 'U9133', 'C5865'): 0.6221144849079483,\n",
       " ('C22944', 'U3572', 'C2651'): 0.20892035104223092,\n",
       " ('C23045', 'U209', 'C23045'): 0.2852342216024453,\n",
       " ('C11764', 'U4952', 'C2651'): 0.2571306773445765,\n",
       " ('C1429', 'U2766', 'C3398'): 0.23340585378889314,\n",
       " ('C21402', 'U2777', 'C2651'): 0.22847876090891844,\n",
       " ('C12490', 'U5301', 'C12490'): 0.2888555621169225,\n",
       " ('C324', 'U357', 'C324'): 0.4341930056198686,\n",
       " ('C19116', 'U8998', 'C19116'): 0.4934338770172926,\n",
       " ('C3568', 'U5946', 'C923'): 0.29329554442038613,\n",
       " ('C211', 'U3413', 'C3249'): 0.41153667873383326,\n",
       " ('C217', 'SYSTEM', 'C217'): 0.21094203451137375,\n",
       " ('C1732', 'U6521', 'C586'): 0.20569554787951322,\n",
       " ('C2707', 'U9132', 'C2707'): 0.297807207246957,\n",
       " ('C2651', 'U561', 'C2651'): 0.22529981671526103,\n",
       " ('C1973', 'U5238', 'C1973'): 0.5782824993283081,\n",
       " ('C2962', 'U2972', 'C2962'): 0.464906141842516,\n",
       " ('C3156', 'U2803', 'C528'): 0.3049029110579094,\n",
       " ('C3428', 'U207', 'C3428'): 0.25992712225774367,\n",
       " ('C9829', 'U997', 'C2651'): 0.24006678483323085,\n",
       " ('C1369', 'U334', 'C338'): 0.4522927199245062,\n",
       " ('C21738', 'U3701', 'C3953'): 0.3582473001150962,\n",
       " ('C14635', 'U4448', 'C528'): 0.26671079954712806,\n",
       " ('C2650', 'U6326', 'C2855'): 0.31681139911534023,\n",
       " ('C216', 'U1103', 'C216'): 0.25558224025342563,\n",
       " ('C3173', 'U2866', 'C3173'): 0.35011380728567204,\n",
       " ('C2058', 'U1231', 'C2058'): 0.8076439190013114,\n",
       " ('C1952', 'U3223', 'C1952'): 0.40993471997573877,\n",
       " ('C187', 'U194', 'C529'): 0.31336090676257894,\n",
       " ('C23516', 'U2990', 'C3398'): 0.23717056828511876,\n",
       " ('C22402', 'U464', 'C457'): 0.2266488891336264,\n",
       " ('C2490', 'U2882', 'C625'): 0.24072837439182218,\n",
       " ('C10701', 'U4199', 'C1124'): 0.3096109445454064,\n",
       " ('C21279', 'U2937', 'C5463'): 0.21213967009007328,\n",
       " ('C24261', 'U5030', 'C24261'): 0.32487063714550707,\n",
       " ('C17216', 'U7288', 'C625'): 0.23436228174755425,\n",
       " ('C324', 'U891', 'C324'): 0.4668381689464324,\n",
       " ('C2987', 'U588', 'C2987'): 0.38633831685561326,\n",
       " ('C18566', 'U214', 'C18566'): 0.21195653221203437,\n",
       " ('C16085', 'U3326', 'C16085'): 0.24659519826707174,\n",
       " ('C1389', 'U760', 'C1681'): 0.3042720744790515,\n",
       " ('C5458', 'U1359', 'C1881'): 0.28241514203549384,\n",
       " ('C1355', 'U251', 'C2092'): 0.27876973584890863,\n",
       " ('C12745', 'U5331', 'C2651'): 0.22384854837327808,\n",
       " ('C24237', 'U464', 'C612'): 0.2090085396095069,\n",
       " ('C754', 'U7998', 'C24482'): 0.3989913681823444,\n",
       " ('C20201', 'U9586', 'C9466'): 0.28206244649459966,\n",
       " ('C458', 'U194', 'C1065'): 0.33578651346422483,\n",
       " ('C2757', 'U369', 'C5716'): 0.23863738173031734,\n",
       " ('C27048', 'U7226', 'C7548'): 0.42703260499100276,\n",
       " ('C10', 'U8960', 'C10'): 0.28898985735126004,\n",
       " ('C1516', 'U429', 'C2106'): 0.2400621056888726,\n",
       " ('C1450', 'U767', 'C5716'): 0.2394731435346066,\n",
       " ('C3597', 'U1025', 'C528'): 0.2442695847749169,\n",
       " ('C368', 'U6487', 'C368'): 0.5583310212990994,\n",
       " ('C143', 'U9414', 'C143'): 0.23692216467132327,\n",
       " ('C16420', 'U11456', 'C16420'): 0.35112726042026887,\n",
       " ('C19444', 'U9263', 'C2327'): 0.3124492340048831,\n",
       " ('C754', 'U7998', 'C21227'): 0.367358303092644,\n",
       " ('C1563', 'U5151', 'C5716'): 0.2350275954240016,\n",
       " ('C6346', 'U788', 'C2150'): 0.356368207923511,\n",
       " ('C1821', 'U394', 'C1821'): 1.0,\n",
       " ('C7139', 'U2499', 'C5297'): 0.3118688202919065,\n",
       " ('C1149', 'U210', 'C1149'): 0.25818564108195746,\n",
       " ('C2651', 'U7637', 'C2651'): 0.24329465329136343,\n",
       " ('C15308', 'U99', 'C586'): 0.229162964674845,\n",
       " ('C21728', 'U10237', 'C2327'): 0.24006348273754063,\n",
       " ('C1345', 'U789', 'C743'): 0.21515077911667965,\n",
       " ('C13670', 'U1958', 'C612'): 0.24155832401105579,\n",
       " ('C19723', 'U9391', 'C612'): 0.23170578232657715,\n",
       " ('C1245', 'U9964', 'C1245'): 0.33151149787501805,\n",
       " ('C11966', 'SYSTEM', 'C11966'): 0.21191928671827237,\n",
       " ('C12951', 'U5466', 'C12951'): 0.3292805177993657,\n",
       " ('C8524', 'U3167', 'C8524'): 0.20995987716620906,\n",
       " ('C1588', 'U1589', 'C1065'): 0.2267026387722,\n",
       " ('C2162', 'U1215', 'C2162'): 0.20611523727283568,\n",
       " ('C14047', 'U4278', 'C2038'): 0.24594868512499887,\n",
       " ('C12362', 'U2123', 'C12362'): 0.24517769314521778,\n",
       " ('C1015', 'U8729', 'C1015'): 0.3185371801047856,\n",
       " ('C628', 'U4657', 'C628'): 0.32651259544582195,\n",
       " ('C1952', 'U10590', 'C1952'): 0.2361313821119724,\n",
       " ('C2881', 'U39', 'C529'): 0.21697575701562455,\n",
       " ('C4348', 'U11476', 'C457'): 0.20859856230163795,\n",
       " ('C10790', 'ANONYMOUS LOGON', 'C10790'): 0.30468159009894186,\n",
       " ('C2707', 'U4168', 'C2707'): 0.3062107012829112,\n",
       " ('C2619', 'U2944', 'C2619'): 0.3836344138185247,\n",
       " ('C5769', 'U4890', 'C5769'): 0.40174097547095544,\n",
       " ('C754', 'U1958', 'C754'): 0.6853360971115571,\n",
       " ('C606', 'U7414', 'C606'): 0.33179437435074816,\n",
       " ('C2669', 'U3847', 'TGT'): 0.2548231809814633,\n",
       " ('C1737', 'U2274', 'C1737'): 0.36050100960082687,\n",
       " ('C19378', 'U9153', 'C2038'): 0.2073492285426686,\n",
       " ('C23062', 'U2933', 'C23062'): 0.2916905526020375,\n",
       " ('C4574', 'U2044', 'C2721'): 0.22717664571044888,\n",
       " ('C10', 'U354', 'C10'): 0.32324328186818385,\n",
       " ('C7219', 'U2529', 'C7219'): 0.29306628422781666,\n",
       " ('C10923', 'U9315', 'C2062'): 0.3155876616389848,\n",
       " ('C10134', 'U3987', 'C1124'): 0.2295805974419236,\n",
       " ('C19389', 'U9146', 'C754'): 0.25249090317714307,\n",
       " ('C2480', 'U4203', 'C2480'): 0.34526007934054415,\n",
       " ('C10', 'U2233', 'C10'): 0.2699978913650673,\n",
       " ('C7973', 'ANONYMOUS LOGON', 'C7973'): 0.2873139738415889,\n",
       " ('C20815', 'U243', 'C1640'): 0.2067150190661044,\n",
       " ('C4442', 'U1367', 'C4442'): 0.41442626693363144,\n",
       " ('C2650', 'U6721', 'C457'): 0.2279332309707584,\n",
       " ('C3156', 'U4981', 'C2106'): 0.2977997050873768,\n",
       " ('C4670', 'U7861', 'C4670'): 0.2997413084859975,\n",
       " ('C3055', 'ANONYMOUS LOGON', 'C754'): 0.22854431817251117,\n",
       " ('C11656', 'U7510', 'C366'): 0.3537350278762214,\n",
       " ('C14104', 'U4643', 'C3640'): 0.2588917920206107,\n",
       " ('C14829', 'U824', 'C1065'): 0.33189397145001326,\n",
       " ('C21626', 'U3856', 'C21626'): 0.2112249095258042,\n",
       " ('C4398', 'U1653', 'C754'): 0.2575651217282483,\n",
       " ('C1191', 'U5487', 'C1191'): 0.43930958866554587,\n",
       " ('C3173', 'U6048', 'C3173'): 0.383085965424386,\n",
       " ('C17693', 'ANONYMOUS LOGON', 'C209'): 0.24263312752773,\n",
       " ('C2877', 'U1145', 'C3070'): 0.30644330980002255,\n",
       " ('C14900', 'U7934', 'C1065'): 0.22364587765283547,\n",
       " ('C1737', 'U202', 'C1737'): 0.44799216471067904,\n",
       " ('C19782', 'U1800', 'TGT'): 0.2884072666419868,\n",
       " ('C291', 'U4741', 'C291'): 0.44898858599699676,\n",
       " ('C23491', 'U755', 'C23491'): 0.309030958224501,\n",
       " ('C11457', 'U4650', 'C586'): 0.2622445642499258,\n",
       " ('C10892', 'U3117', 'C625'): 0.28817266911758904,\n",
       " ('C1817', 'U1293', 'C1065'): 0.2492793956661648,\n",
       " ('C10858', 'U4274', 'C743'): 0.30293629309243036,\n",
       " ('C3592', 'U5215', 'C3592'): 0.4043048366070126,\n",
       " ('C20699', 'SYSTEM', 'C20699'): 0.24365841363339244,\n",
       " ('C24116', 'U3628', 'C10129'): 0.26208483313870273,\n",
       " ('C3186', 'U5532', 'C1821'): 0.23674135828767406,\n",
       " ('C3173', 'U7772', 'C625'): 0.21793405182940837,\n",
       " ('C3070', 'U7182', 'C1881'): 0.24844404264240746,\n",
       " ('C19088', 'U6092', 'C19088'): 0.23014438918943506,\n",
       " ('C5571', 'U2268', 'C5571'): 0.5052127730822504,\n",
       " ('C4750', 'U285', 'C5716'): 0.2193527438362704,\n",
       " ('C4777', 'U6033', 'C2867'): 0.43543145363249364,\n",
       " ('C366', 'U13', 'C586'): 0.31247999474071864,\n",
       " ('C5012', 'U2571', 'C5012'): 0.4598710236491108,\n",
       " ('C12008', 'U142', 'C12008'): 0.247617330979406,\n",
       " ('C9423', 'U1552', 'C467'): 0.2323846659631095,\n",
       " ('C5905', 'U8641', 'C5769'): 0.2636047483368362,\n",
       " ('C17928', 'U9379', 'C17928'): 0.3726667622002777,\n",
       " ('C362', 'U1001', 'C362'): 0.9006085675994173,\n",
       " ('C3139', 'U1958', 'C7558'): 0.29483500876015495,\n",
       " ('C3547', 'SYSTEM', 'C3547'): 0.21373156397920967,\n",
       " ('C1719', 'NETWORK SERVICE', 'C1719'): 0.5974283505055918,\n",
       " ('C335', 'U8020', 'C335'): 0.22690784804420208,\n",
       " ('C19444', 'U9263', 'C1882'): 0.44904133199351204,\n",
       " ('C22974', 'U1174', 'C1065'): 0.23624394770299972,\n",
       " ('C936', 'U6557', 'C936'): 0.5795243343842863,\n",
       " ('C231', 'U1723', 'C1003'): 0.23872982519273056,\n",
       " ('C4784', 'U737', 'C1152'): 0.42879171038414543,\n",
       " ('C1929', 'ANONYMOUS LOGON', 'C612'): 0.27543120324027337,\n",
       " ('C22064', 'U5412', 'TGT'): 0.24729714841587633,\n",
       " ('C36', 'U7255', 'C36'): 0.4396697245956769,\n",
       " ('C9487', 'U3630', 'C6397'): 0.2823402053780222,\n",
       " ('C6153', 'U1973', 'C2626'): 0.2726907869348762,\n",
       " ('C17554', 'U792', 'U1'): 0.33739629387661374,\n",
       " ('C3139', 'U1958', 'C15279'): 0.334717099033259,\n",
       " ('C8149', 'U6074', 'C8149'): 0.39891666072255993,\n",
       " ('C546', 'U770', 'TGT'): 0.24278839181586193,\n",
       " ('C2137', 'U6265', 'C2137'): 0.40035822052175346,\n",
       " ('C754', 'U7998', 'C20317'): 0.2975342745096785,\n",
       " ('C25071', 'U672', 'C625'): 0.22620818039880952,\n",
       " ('C14722', 'U2964', 'C743'): 0.20898481209059225,\n",
       " ('C1737', 'U1941', 'C1737'): 0.3546068359984606,\n",
       " ('C2651', 'U1352', 'C2651'): 0.252382388226075,\n",
       " ('C21122', 'U4274', 'C467'): 0.24533673721950722,\n",
       " ('C14903', 'U1383', 'TGT'): 0.370907673237315,\n",
       " ('C2652', 'U342', 'C528'): 0.24158966716974004,\n",
       " ('C21447', 'U5994', 'C1632'): 0.2368864191691291,\n",
       " ('C838', 'U2308', 'C2310'): 0.2704692838770757,\n",
       " ('C19', 'U28', 'C19'): 0.25541324468995874,\n",
       " ('C17475', 'U8720', 'C17475'): 0.284140513280137,\n",
       " ('C24189', 'U139', 'C24189'): 0.3060900524383327,\n",
       " ('C4760', 'U8946', 'C625'): 0.2668585435517202,\n",
       " ('C3701', 'U794', 'C3701'): 0.41417126152197226,\n",
       " ('C10', 'U4877', 'C10'): 0.2823762930865456,\n",
       " ('C21202', 'U1097', 'C20091'): 0.3902979888417395,\n",
       " ('C21224', 'U691', 'C21224'): 0.5284726406000965,\n",
       " ('C23803', 'U2864', 'C1877'): 0.2385503242538939,\n",
       " ('C22762', 'U1071', 'C22762'): 0.440833512648275,\n",
       " ('C359', 'U737', 'C3573'): 0.3086272211274576,\n",
       " ('C23847', 'SYSTEM', 'C23847'): 0.2771781681676227,\n",
       " ('C8903', 'U3624', 'C612'): 0.23047285765739411,\n",
       " ('C23571', 'U4327', 'C612'): 0.2606858397393405,\n",
       " ('C9727', 'U3717', 'C23458'): 0.22387332370797722,\n",
       " ('C1737', 'U959', 'C1737'): 0.36813796203556726,\n",
       " ('C16354', 'U7510', 'C17153'): 0.29512603879928917,\n",
       " ('C2651', 'U3994', 'C2651'): 0.22711572118253634,\n",
       " ('C1325', 'U941', 'C4318'): 0.23869480869719156,\n",
       " ('C2721', 'U342', 'C1789'): 0.6591700859590559,\n",
       " ('C598', 'U667', 'C529'): 0.22706286892891808,\n",
       " ('C14122', 'U1653', 'C754'): 0.32853119862157537,\n",
       " ('C2519', 'U4803', 'C2519'): 0.4950643024350226,\n",
       " ('C2388', 'U303', 'C2388'): 0.36843808563543673,\n",
       " ('C5238', 'U2811', 'C1640'): 0.2292663387892676,\n",
       " ('C4311', 'NETWORK SERVICE', 'C4311'): 0.22438489922432805,\n",
       " ('C11301', 'U4596', 'C3173'): 0.2721177426808312,\n",
       " ('C229', 'U8402', 'U25'): 0.2820410345889786,\n",
       " ('C12816', 'U39', 'C1065'): 0.23027421361434494,\n",
       " ('C24802', 'U6257', 'C467'): 0.2341953225199681,\n",
       " ('C3219', 'U199', 'C5463'): 0.26186197021435526,\n",
       " ('C18084', 'U513', 'C1152'): 0.3360930914005989,\n",
       " ('C13667', 'U1415', 'C13667'): 0.4131499731052305,\n",
       " ('C24468', 'U6807', 'C24468'): 0.29114151079618444,\n",
       " ('C20997', 'U342', 'C743'): 0.2169714482894276,\n",
       " ('C2290', 'U316', 'C2290'): 0.2705858112432561,\n",
       " ('C24701', 'U1590', 'C449'): 0.2623653034394662,\n",
       " ('C3215', 'U4327', 'C3215'): 0.263099804829013,\n",
       " ('C1737', 'U10563', 'C1737'): 0.34741285792971816,\n",
       " ('C16173', 'U7411', 'C16173'): 0.2181199599046622,\n",
       " ('C3055', 'SYSTEM', 'C3055'): 0.20546404204154511,\n",
       " ('C396', 'U1186', 'C5873'): 0.2319754290680444,\n",
       " ('C4040', 'U314', 'C529'): 0.2655863219649849,\n",
       " ('C12149', 'U4997', 'C1640'): 0.34941431481977203,\n",
       " ('C91', 'U1319', 'C3040'): 0.350830413655344,\n",
       " ('C2149', 'U1564', 'C2149'): 0.43143397102543857,\n",
       " ('C3912', 'U7226', 'TGT'): 0.21248000032518388,\n",
       " ('C61', 'U8402', 'C419'): 0.28847243546756746,\n",
       " ('C92', 'U6', 'U661'): 0.2606413381845012,\n",
       " ('C20658', 'U9391', 'TGT'): 0.23829862691120737,\n",
       " ('C919', 'U6721', 'C3309'): 0.4532632609895694,\n",
       " ('C2385', 'U8372', 'C2385'): 0.3681083509183375,\n",
       " ('C2873', 'ANONYMOUS LOGON', 'C2873'): 0.2976512297481729,\n",
       " ('C17050', 'U7849', 'C3040'): 0.2238490896883507,\n",
       " ('C21709', 'U525', 'C21709'): 0.2222829776658407,\n",
       " ('C4778', 'U8836', 'TGT'): 0.20739245013084417,\n",
       " ('C1015', 'U5766', 'C1015'): 0.3344210547255013,\n",
       " ('C1210', 'U1071', 'C1015'): 0.2572847191693211,\n",
       " ('C2485', 'U672', 'C529'): 0.2575116570584075,\n",
       " ('C18008', 'U5956', 'C2721'): 0.5504123716416288,\n",
       " ('C703', 'ANONYMOUS LOGON', 'C703'): 0.2710979009130297,\n",
       " ('C2519', 'U342', 'C1640'): 0.3121745268837253,\n",
       " ('C12189', 'U5174', 'C10'): 0.2487754952647951,\n",
       " ('C1785', 'U24', 'C586'): 0.24636861735862947,\n",
       " ('C20642', 'U9804', 'C20642'): 0.4961657055369055,\n",
       " ('C5458', 'U6903', 'C1881'): 0.36321961863473134,\n",
       " ('C358', 'U7375', 'TGT'): 0.24566715348439577,\n",
       " ('C21229', 'U1312', 'C457'): 0.2087131490663975,\n",
       " ('C1881', 'U2423', 'C1881'): 0.24183008726439226,\n",
       " ('C7521', 'U2882', 'C3156'): 0.46665661838126116,\n",
       " ('C2721', 'U4390', 'C2721'): 0.6786815972682637,\n",
       " ('C8209', 'U3005', 'TGT'): 0.2188364320484645,\n",
       " ('C10753', 'U4248', 'C10753'): 0.2060346415923197,\n",
       " ('C16650', 'U627', 'C16650'): 0.2681266180361794,\n",
       " ('C21482', 'U2183', 'C21482'): 0.3701883648863032,\n",
       " ('C4924', 'U6567', 'C2855'): 0.3289301190251463,\n",
       " ('C2963', 'U737', 'C585'): 0.24008620917319418,\n",
       " ('C1319', 'U5366', 'C2106'): 0.2379294490546789,\n",
       " ('C324', 'U4332', 'C324'): 0.45154271471507634,\n",
       " ('C11600', 'U151', 'C2525'): 0.6457402910708175,\n",
       " ('C3034', 'U4533', 'C3034'): 0.4365387535196462,\n",
       " ('C8581', 'U143', 'C5734'): 0.2716866854524835,\n",
       " ('C13090', 'U5547', 'C3116'): 0.22075630094458723,\n",
       " ('C11315', 'U2522', 'C11315'): 0.3774575801810374,\n",
       " ('C2798', 'U1415', 'C2798'): 0.23995650852567688,\n",
       " ('C25024', 'U3771', 'C625'): 0.2155291471674623,\n",
       " ('C4313', 'U737', 'C612'): 0.45605624399817507,\n",
       " ('C606', 'U6', 'C606'): 0.24987696647054294,\n",
       " ('C1830', 'U8728', 'C1830'): 0.42544918972861806,\n",
       " ('C3882', 'U355', 'C3882'): 0.4364751996448811,\n",
       " ('C23584', 'U5785', 'C23584'): 0.556366577752545,\n",
       " ('C24826', 'U6891', 'C2651'): 0.2185538144701629,\n",
       " ('C1581', 'U625', 'C1581'): 0.6291752913932386,\n",
       " ('C10', 'U2350', 'C10'): 0.32678435979032405,\n",
       " ('C466', 'U453', 'C1015'): 0.21621235743407755,\n",
       " ('C2749', 'ANONYMOUS LOGON', 'C2749'): 0.2937883052417058,\n",
       " ('C2438', 'U5059', 'C2438'): 0.6993172688584354,\n",
       " ('C12178', 'U2667', 'C467'): 0.2868031135121622,\n",
       " ('C72', 'U3809', 'C72'): 0.4294307944747651,\n",
       " ('C445', 'U781', 'C2525'): 0.21470496752681018,\n",
       " ('C21120', 'U10097', 'C1015'): 0.25626305712165093,\n",
       " ('C4289', 'U8034', 'C4289'): 0.5096959132776578,\n",
       " ('C21761', 'U8809', 'C5716'): 0.2321032421133545,\n",
       " ('C13640', 'U5970', 'C585'): 0.2257141266275037,\n",
       " ('C1319', 'U6267', 'C2106'): 0.26096656088509046,\n",
       " ('C11729', 'U367', 'C2310'): 0.29142168836409543,\n",
       " ('C14806', 'U824', 'C586'): 0.30827658271332953,\n",
       " ('C20344', 'U1378', 'C625'): 0.24052491646802718,\n",
       " ('C9015', 'U4409', 'C9015'): 0.43112359282669477,\n",
       " ('C360', 'U8050', 'C1065'): 0.24447125176378706,\n",
       " ('C14967', 'U5785', 'C1065'): 0.3328055853123509,\n",
       " ('C2650', 'U8726', 'C2650'): 0.34813253679503636,\n",
       " ('C13684', 'U6922', 'C13684'): 0.5977467417174205,\n",
       " ('C227', 'U76', 'C3249'): 0.23223064415632785,\n",
       " ('C5458', 'U10019', 'C5457'): 0.39651835886559644,\n",
       " ('C2848', 'U5255', 'C2651'): 0.2635218685909888,\n",
       " ('C17322', 'U1653', 'C17322'): 0.21823300821057953,\n",
       " ('C1197', 'U3666', 'C1124'): 0.4388498971585492,\n",
       " ('C9084', 'U2185', 'C9084'): 0.2975801374191254,\n",
       " ('C17397', 'U637', 'C719'): 0.25071184119862155,\n",
       " ('C4269', 'U150', 'C4269'): 0.2173353927421525,\n",
       " ('C9884', 'SYSTEM', 'C9884'): 0.28279534411636903,\n",
       " ('C2021', 'U4657', 'C2021'): 0.7981736579898713,\n",
       " ('C1319', 'U5809', 'C2106'): 0.22653563505212668,\n",
       " ('C15780', 'U1653', 'C15780'): 0.39261959595288487,\n",
       " ('C4305', 'U1653', 'C4305'): 0.317849624935984,\n",
       " ('C17385', 'U6226', 'C17385'): 0.21474476676841203,\n",
       " ('C19932', 'U737', 'C2106'): 0.2657259749324793,\n",
       " ('C626', 'U8', 'U25'): 0.2312856607452256,\n",
       " ('C14862', 'U6321', 'C2753'): 0.254120225062685,\n",
       " ('C20638', 'U9584', 'C20638'): 0.5506861904967959,\n",
       " ('C21594', 'U8850', 'C2106'): 0.22993271084450054,\n",
       " ('C2765', 'U8434', 'C2765'): 0.4406359609690618,\n",
       " ('C1790', 'U1683', 'C1790'): 0.35358365275670833,\n",
       " ('C21891', 'U5214', 'C528'): 0.30560625411283665,\n",
       " ('C8677', 'U7427', 'C2106'): 0.22259535492046456,\n",
       " ('C1952', 'U9695', 'C1952'): 0.361429249917333,\n",
       " ('C452', 'U22', 'C477'): 0.21478012430203214,\n",
       " ('C3894', 'ANONYMOUS LOGON', 'C3894'): 0.2818977497092113,\n",
       " ('C466', 'U5002', 'C1848'): 0.2328903979195036,\n",
       " ('C11120', 'U9695', 'C3398'): 0.21437228301350925,\n",
       " ('C2794', 'U202', 'C2794'): 0.750585480568657,\n",
       " ('C449', 'U4354', 'C449'): 0.2685262465145094,\n",
       " ('C15362', 'U7833', 'C5463'): 0.24353599951321622,\n",
       " ('C2159', 'U8131', 'C2159'): 0.7071556888774495,\n",
       " ('C8312', 'U10241', 'C8312'): 0.3051755672431616,\n",
       " ('C1319', 'U5002', 'C2254'): 0.32095514168052036,\n",
       " ('C4957', 'U131', 'C1681'): 0.21980879922831853,\n",
       " ('C4501', 'U714', 'C2106'): 0.221195952231681,\n",
       " ('C1737', 'U3319', 'C1737'): 0.34274500223326654,\n",
       " ('C8410', 'U1829', 'C8410'): 0.3480423092726566,\n",
       " ('C4313', 'U1916', 'C12570'): 0.6259992128719849,\n",
       " ('C4616', 'U422', 'C2436'): 0.25796227850429887,\n",
       " ('C4003', 'U1401', 'C1015'): 0.35806948605795497,\n",
       " ('C1681', 'U9531', 'C1681'): 0.7470337738480842,\n",
       " ('C22423', 'U190', 'C2390'): 0.34843588630299305,\n",
       " ('C20605', 'ANONYMOUS LOGON', 'C20605'): 0.30550163139647296,\n",
       " ('C6339', 'U2073', 'C308'): 0.24343543703851725,\n",
       " ('C1821', 'ANONYMOUS LOGON', 'C20393'): 0.34324283510806025,\n",
       " ('C24100', 'U7259', 'C24100'): 0.5622037329365014,\n",
       " ('C17617', 'U6801', 'C17617'): 0.32085840019816375,\n",
       " ('C10817', 'U4353', 'C10171'): 0.8815789507576075,\n",
       " ('C4747', 'ANONYMOUS LOGON', 'C754'): 0.32931030354328855,\n",
       " ('C449', 'U229', 'C449'): 0.27579037343856405,\n",
       " ('C19556', 'U8809', 'C2038'): 0.22122448106736678,\n",
       " ('C366', 'U1518', 'C366'): 0.7861275317289682,\n",
       " ('C2651', 'U540', 'C2651'): 0.22351493889287033,\n",
       " ('C3070', 'U9101', 'C2516'): 0.25928924432024075,\n",
       " ('C12812', 'U5473', 'C2525'): 0.21417708689427264,\n",
       " ('C754', 'U7998', 'C15005'): 0.4566660541682561,\n",
       " ('C3650', 'U6190', 'C2389'): 0.310593644358875,\n",
       " ('C4095', 'U5846', 'C1604'): 0.2332314469900531,\n",
       " ('C4284', 'U3821', 'C4284'): 0.4179410791148217,\n",
       " ('C3156', 'U831', 'TGT'): 0.3521786400521672,\n",
       " ('C19664', 'U9330', 'C19664'): 0.2225978062710746,\n",
       " ('C8935', 'U3840', 'C17766'): 0.24378008240938517,\n",
       " ('C5458', 'U1303', 'C5457'): 0.4417454447003089,\n",
       " ('C8542', 'U3223', 'C2915'): 0.4079977065548302,\n",
       " ('C17433', 'U191', 'C20325'): 0.504895334111625,\n",
       " ('C16001', 'U8586', 'C2106'): 0.22812619483978042,\n",
       " ('C92', 'U5913', 'C92'): 0.21349193149927947,\n",
       " ('C1679', 'U5295', 'C529'): 0.31751391071462987,\n",
       " ('C17005', 'U550', 'C5790'): 0.3089194615714028,\n",
       " ('C3309', 'U6567', 'C5636'): 0.4642943951918054,\n",
       " ('C26612', 'U139', 'C585'): 0.2077238326774759,\n",
       " ('C935', 'U1305', 'C935'): 0.7994945350538857,\n",
       " ('C20554', 'LOCAL SERVICE', 'C20554'): 0.23836583412971504,\n",
       " ('C3173', 'U2518', 'C3173'): 0.2686651829683699,\n",
       " ('C8728', 'U3376', 'C13170'): 0.29014196470917125,\n",
       " ('C18002', 'U464', 'C5825'): 0.496204142222348,\n",
       " ('C9912', 'U3922', 'TGT'): 0.22536458573201518,\n",
       " ('C10069', 'U4160', 'C3398'): 0.208848999916214,\n",
       " ('C177', 'U2242', 'C1790'): 0.23198308331315529,\n",
       " ('C18821', 'U8841', 'C18473'): 0.23597547339108332,\n",
       " ('C23877', 'U11440', 'C1242'): 0.4803409195630379,\n",
       " ('C2378', 'U3203', 'C2378'): 0.7029447929179282,\n",
       " ('C15085', 'U7865', 'C4759'): 0.22992022673099619,\n",
       " ('C6445', 'U2231', 'C16926'): 0.2471763342563391,\n",
       " ('C16574', 'U7607', 'C1015'): 0.24113273932033186,\n",
       " ('C4741', 'U250', 'C2106'): 0.2377531951556938,\n",
       " ('C2819', 'U1001', 'C2819'): 0.23511421645691588,\n",
       " ('C2892', 'U588', 'C4728'): 0.2506256845717866,\n",
       " ('C12463', 'U459', 'C2651'): 0.20588315288278378,\n",
       " ('C19458', 'U1942', 'C3953'): 0.29018617195690444,\n",
       " ('C19301', 'U1829', 'C1790'): 0.21018686770244524,\n",
       " ('C10892', 'U8835', 'C1065'): 0.28304594504326797,\n",
       " ('C15954', 'U5664', 'C15954'): 0.2677979559180896,\n",
       " ('C22930', 'U10960', 'C2651'): 0.24134559807741798,\n",
       " ('C860', 'U440', 'C860'): 0.22147848554959226,\n",
       " ('C1195', 'U5951', 'C2651'): 0.22859519526134175,\n",
       " ('C24944', 'U1048', 'C24944'): 0.3332072773097597,\n",
       " ('C17135', 'U7853', 'C19793'): 0.2887728684667015,\n",
       " ('C15276', 'U4037', 'C15276'): 0.3102383736177455,\n",
       " ('C222', 'U9', 'C222'): 0.25129322014679284,\n",
       " ('C211', 'U3413', 'C5733'): 0.483390669580973,\n",
       " ('C3249', 'U6350', 'C3249'): 0.31268541763879615,\n",
       " ('C8488', 'ANONYMOUS LOGON', 'C8488'): 0.2588249674565452,\n",
       " ('C676', 'U825', 'C2983'): 0.4920666468340397,\n",
       " ('C3206', 'U1455', 'C3206'): 0.4544500987861886,\n",
       " ('C21321', 'U9362', 'C22889'): 0.2852507005231714,\n",
       " ('C17116', 'U247', 'C17116'): 0.34728867922675594,\n",
       " ('C695', 'U8849', 'C457'): 0.2186809785705238,\n",
       " ('C1875', 'U3536', 'C1875'): 0.45857822958930805,\n",
       " ('C14644', 'U384', 'C14644'): 0.35074381675960087,\n",
       " ('C808', 'U6433', 'C808'): 0.2969923776847166,\n",
       " ('C2162', 'U1430', 'C5716'): 0.2592084697771766,\n",
       " ('C1881', 'U4425', 'C1881'): 0.21813286012379435,\n",
       " ('C368', 'U13', 'C467'): 0.30733795995889557,\n",
       " ('C10839', 'ANONYMOUS LOGON', 'C10839'): 0.26018435366033066,\n",
       " ('C3173', 'U1419', 'C3173'): 0.29961991000899424,\n",
       " ('C2651', 'U10960', 'C2651'): 0.2278455000145972,\n",
       " ('C25907', 'U604', 'TGT'): 0.23989389276847287,\n",
       " ('C626', 'U1584', 'C1'): 0.3077014564176241,\n",
       " ('C23546', 'U7427', 'C1065'): 0.22421046665276048,\n",
       " ('C4784', 'U5582', 'C4784'): 0.23246433284635432,\n",
       " ('C3371', 'U2044', 'C2721'): 0.25410251719660654,\n",
       " ('C8111', 'U9263', 'C585'): 0.21440535360440804,\n",
       " ('C5012', 'U6098', 'C5012'): 0.3849629893090983,\n",
       " ('C92', 'U4308', 'C92'): 0.20797462921507148,\n",
       " ('C10518', 'U3993', 'C10518'): 0.21060079308894147,\n",
       " ('C96', 'U8938', 'C96'): 0.5422645595694529,\n",
       " ('C4563', 'U890', 'C4563'): 0.23382773795131348,\n",
       " ('C10776', 'U3745', 'C10776'): 0.43814184621729724,\n",
       " ('C555', 'U356', 'C13170'): 0.22765885355600002,\n",
       " ('C9727', 'U3717', 'C9727'): 0.26834909921476663,\n",
       " ('C3070', 'ANONYMOUS LOGON', 'C754'): 0.2578043668255738,\n",
       " ('C26796', 'U3771', 'C10854'): 0.3735627457091051,\n",
       " ('C449', 'U2852', 'C449'): 0.24910744914087518,\n",
       " ('C2725', 'U357', 'C2725'): 0.44784241077536147,\n",
       " ('C22826', 'U1506', 'C5873'): 0.23072338662578082,\n",
       " ('C211', 'U1381', 'C743'): 0.2221242833454335,\n",
       " ('C9125', 'U3543', 'C3398'): 0.21506220266228165,\n",
       " ('C1188', 'U394', 'C1015'): 0.35363676267352046,\n",
       " ('C20336', 'U9651', 'C20336'): 0.2665735842425168,\n",
       " ('C13515', 'U5866', 'C2683'): 0.2109316314418171,\n",
       " ('C17388', 'U7004', 'C17388'): 0.3512682065653216,\n",
       " ('C4313', 'U3624', 'C1065'): 0.38361913674217396,\n",
       " ('C1881', 'U7444', 'C1881'): 0.2630991899033356,\n",
       " ('C754', 'U7998', 'C21782'): 0.4108653610152757,\n",
       " ('C7176', 'U2397', 'C457'): 0.24454763067676066,\n",
       " ('C16156', 'U1323', 'C16156'): 0.3910016738080184,\n",
       " ('C10203', 'U4033', 'TGT'): 0.22525824722164328,\n",
       " ('C20914', 'U4448', 'TGT'): 0.2626821651214019,\n",
       " ('C3058', 'U5763', 'C3058'): 0.7679027562131414,\n",
       " ('C12539', 'U5261', 'C15835'): 0.20811079875020994,\n",
       " ('C13346', 'U5828', 'C1219'): 0.3698292842597205,\n",
       " ('C15903', 'U5214', 'C467'): 0.28620198331705005,\n",
       " ('C423', 'U4281', 'C423'): 0.27288877703105974,\n",
       " ('C9623', 'SYSTEM', 'C9623'): 0.20545225933866262,\n",
       " ('C11049', 'ANONYMOUS LOGON', 'C11049'): 0.27728388061088954,\n",
       " ('C15958', 'U5668', 'C743'): 0.2507250348264208,\n",
       " ('C1772', 'U3128', 'C612'): 0.2446113571571453,\n",
       " ('C13117', 'U5600', 'C1479'): 0.2226193260577484,\n",
       " ('C6517', 'SYSTEM', 'C6517'): 0.22537776604786908,\n",
       " ('C5459', 'SYSTEM', 'C5459'): 0.21476774059194106,\n",
       " ('C1737', 'U5826', 'C1737'): 0.36837697441086314,\n",
       " ('C24270', 'U3771', 'C457'): 0.2625002348420935,\n",
       " ('C3156', 'U4981', 'C3156'): 0.8878922730701321,\n",
       " ('C1221', 'U786', 'C585'): 0.23354098319744643,\n",
       " ('C8246', 'U867', 'C2553'): 0.263609539947046,\n",
       " ('C17862', 'U4353', 'C467'): 0.2824861004807945}"
      ]
     },
     "execution_count": 82,
     "metadata": {},
     "output_type": "execute_result"
    }
   ],
   "source": [
    "test_result[\"false_negative\"]"
   ]
  },
  {
   "cell_type": "code",
   "execution_count": 83,
   "metadata": {},
   "outputs": [
    {
     "data": {
      "text/plain": [
       "{('C22409', 'U3486', 'C467'): 0.1389036169766751,\n",
       " ('C22409', 'U3486', 'C457'): 0.16172711305505497,\n",
       " ('C22409', 'U1653', 'C754'): 0.17273296483529976}"
      ]
     },
     "execution_count": 83,
     "metadata": {},
     "output_type": "execute_result"
    }
   ],
   "source": [
    "test_result[\"false_positive\"]"
   ]
  },
  {
   "cell_type": "code",
   "execution_count": 84,
   "metadata": {},
   "outputs": [
    {
     "data": {
      "text/plain": [
       "{('C17693', 'U3005', 'C687'): 0.3819576687179561,\n",
       " ('C17693', 'U4448', 'C1555'): 0.5457153452579214,\n",
       " ('C17693', 'U66', 'C452'): 0.3729765505660609,\n",
       " ('C19932', 'U737', 'C467'): 0.24837655456619875,\n",
       " ('C17693', 'U218', 'C5653'): 0.39374475211672244,\n",
       " ('C17693', 'U342', 'C2519'): 0.49793072993881804,\n",
       " ('C17693', 'U3005', 'C78'): 0.35970332292483703,\n",
       " ('C17693', 'U24', 'C2378'): 0.5264175609091308,\n",
       " ('C17693', 'U2231', 'C1432'): 0.5070974388521925,\n",
       " ('C17693', 'U1569', 'C1632'): 0.34874532041221806,\n",
       " ('C17693', 'U13', 'C3288'): 0.5174974223540351,\n",
       " ('C17693', 'U66', 'C243'): 0.37151713619024435,\n",
       " ('C17693', 'U6691', 'C2079'): 0.2552626652523023,\n",
       " ('C17693', 'U207', 'C2388'): 0.43630124196786557,\n",
       " ('C17693', 'U4448', 'C22275'): 0.5682264802642525,\n",
       " ('C17693', 'U66', 'C2012'): 0.3109490144700083,\n",
       " ('C17693', 'U3635', 'C8209'): 0.43497195316113124,\n",
       " ('C17693', 'U66', 'C5439'): 0.3265707316857399,\n",
       " ('C17693', 'U114', 'C3610'): 0.44423740400141093,\n",
       " ('C17693', 'U3005', 'C506'): 0.41732537418619775,\n",
       " ('C17693', 'U1025', 'C338'): 0.613737522141248,\n",
       " ('C17693', 'U3718', 'C9692'): 0.47269710180572727,\n",
       " ('C19932', 'U737', 'C457'): 0.2687740419108557,\n",
       " ('C17693', 'U8168', 'C19038'): 0.5243691595791419,\n",
       " ('C17693', 'U415', 'C1906'): 0.47430946605292706,\n",
       " ('C19932', 'U737', 'C612'): 0.25801755633348006,\n",
       " ('C17693', 'U1025', 'C3597'): 0.5241604907456762,\n",
       " ('C17693', 'U1145', 'C2388'): 0.4525092059157006,\n",
       " ('C17693', 'U24', 'C4934'): 0.4387956655772631,\n",
       " ('C17693', 'U3549', 'C529'): 0.27101670045854137,\n",
       " ('C17693', 'U7594', 'C16563'): 0.2581892265092878,\n",
       " ('C17693', 'U1723', 'C2519'): 0.3474490876760892,\n",
       " ('C17693', 'U374', 'C1461'): 0.38758363674191865,\n",
       " ('C17693', 'U66', 'C1015'): 0.3315261637817259,\n",
       " ('C17693', 'U524', 'C15'): 0.3477808504674759,\n",
       " ('C17693', 'U2575', 'C1438'): 0.33296020733065657,\n",
       " ('C17693', 'U66', 'C3610'): 0.33326289757681915,\n",
       " ('C17693', 'U1467', 'C3597'): 0.35574731893291384,\n",
       " ('C19932', 'U737', 'C108'): 0.3345951661710556,\n",
       " ('C17693', 'U8168', 'C685'): 0.4445466687165584,\n",
       " ('C17693', 'U415', 'C3173'): 0.39520693034614707,\n",
       " ('C17693', 'U415', 'C486'): 0.5593609659660681,\n",
       " ('C17693', 'U3005', 'C1710'): 0.372167164763976,\n",
       " ('C17693', 'U4448', 'C9006'): 0.5133047811539486,\n",
       " ('C17693', 'U1145', 'C2877'): 0.47956929784360286,\n",
       " ('C17693', 'U1450', 'C1268'): 0.5052715706222605,\n",
       " ('C17693', 'U66', 'C3037'): 0.4084345496605709,\n",
       " ('C17693', 'U995', 'C1014'): 0.380312089403988,\n",
       " ('C17693', 'U114', 'C1710'): 0.5147943111773556,\n",
       " ('C17693', 'U66', 'C3758'): 0.24975668587937894,\n",
       " ('C19932', 'U737', 'C586'): 0.26781223679198013,\n",
       " ('C17693', 'U8777', 'C1710'): 0.5657488520827485,\n",
       " ('C17693', 'U3005', 'C2012'): 0.346320110325797,\n",
       " ('C17693', 'U3005', 'C3629'): 0.43232693234318054,\n",
       " ('C17693', 'U3764', 'C9723'): 0.5265880966319002,\n",
       " ('C17693', 'U1519', 'C849'): 0.26657807364033337,\n",
       " ('C17693', 'U218', 'C1936'): 0.3738466555462611,\n",
       " ('C17693', 'U1592', 'C18464'): 0.5431405397252331,\n",
       " ('C17693', 'U3549', 'C1887'): 0.4039337805333844,\n",
       " ('C17693', 'U66', 'C5343'): 0.35163983480779626,\n",
       " ('C17693', 'U1145', 'C3019'): 0.4572752799230459,\n",
       " ('C17693', 'U20', 'C368'): 0.4468148903339929,\n",
       " ('C17693', 'U66', 'C2388'): 0.3581892647906073,\n",
       " ('C17693', 'U66', 'C553'): 0.37459946858121446,\n",
       " ('C17693', 'U66', 'C2013'): 0.38717883576728734,\n",
       " ('C17693', 'U66', 'C626'): 0.3392640675660785,\n",
       " ('C17693', 'U3549', 'C457'): 0.28845399107673664,\n",
       " ('C17693', 'U66', 'C1509'): 0.31089114976572757,\n",
       " ('C17693', 'U737', 'C3491'): 0.5725260850671948,\n",
       " ('C17693', 'U212', 'C126'): 0.48462834485235945,\n",
       " ('C17693', 'U8601', 'C10817'): 0.6651474721366701,\n",
       " ('C17693', 'U6572', 'C90'): 0.29968913109548223,\n",
       " ('C17693', 'U66', 'C3699'): 0.39746959245659624,\n",
       " ('C17693', 'U4112', 'C1438'): 0.2639199873029527,\n",
       " ('C17693', 'U3005', 'C1887'): 0.40711504710434643,\n",
       " ('C17693', 'U66', 'C22174'): 0.4126603313098751,\n",
       " ('C17693', 'U66', 'C1191'): 0.40025796000955766,\n",
       " ('C17693', 'U9263', 'C1015'): 0.43336698123927514,\n",
       " ('C17693', 'U825', 'C2669'): 0.6779125931085181,\n",
       " ('C17693', 'U5087', 'C1448'): 0.6443167095919478,\n",
       " ('C17693', 'U66', 'C3755'): 0.3571129235780146,\n",
       " ('C17693', 'U66', 'C4403'): 0.3250680909579719,\n",
       " ('C17693', 'U3005', 'C1319'): 0.46744535632692763,\n",
       " ('C17693', 'U4448', 'C1438'): 0.47304926006486353,\n",
       " ('C17693', 'U7507', 'C486'): 0.5428938184059221,\n",
       " ('C17693', 'U3005', 'C1810'): 0.4882233801438352,\n",
       " ('C17693', 'U1789', 'C3019'): 0.32306083394272334,\n",
       " ('C17693', 'U7311', 'C977'): 0.3179621068212168,\n",
       " ('C17693', 'U66', 'C1085'): 0.3592615858548926,\n",
       " ('C17693', 'U453', 'C2388'): 0.3598226506193117,\n",
       " ('C17693', 'U13', 'C430'): 0.578421332097546,\n",
       " ('C17693', 'U3005', 'C3635'): 0.41881798484862953,\n",
       " ('C17693', 'U1145', 'C115'): 0.45419476066528475,\n",
       " ('C17693', 'U2575', 'C5618'): 0.4079818159302139,\n",
       " ('C17693', 'U3549', 'C586'): 0.2691794877413475,\n",
       " ('C17693', 'U66', 'C398'): 0.3287180088386309,\n",
       " ('C17693', 'U66', 'C3288'): 0.4310596734212257,\n",
       " ('C17693', 'U218', 'C2079'): 0.3951526316322125,\n",
       " ('C17693', 'U2231', 'C1438'): 0.37143379653281217,\n",
       " ('C17693', 'U3549', 'C528'): 0.290174294865224,\n",
       " ('C17693', 'U1592', 'C20677'): 0.5443798515145681,\n",
       " ('C17693', 'U9263', 'C828'): 0.4528851752932651,\n",
       " ('C17693', 'U1723', 'C1438'): 0.2993891294884332,\n",
       " ('C17693', 'U66', 'C849'): 0.36765664687431365,\n",
       " ('C17693', 'U1569', 'C3019'): 0.3662732972658414,\n",
       " ('C17693', 'U737', 'C2578'): 0.6305534385940904,\n",
       " ('C17693', 'U655', 'C1710'): 0.4161982224851351,\n",
       " ('C17693', 'U66', 'C1964'): 0.33373622232713523,\n",
       " ('C17693', 'U1145', 'C3173'): 0.4311513615147259,\n",
       " ('C17693', 'U2231', 'C3249'): 0.358371968038198,\n",
       " ('C17693', 'U227', 'C177'): 0.3191031632291603,\n",
       " ('C17693', 'U3005', 'C246'): 0.4193205066207127,\n",
       " ('C17693', 'U6764', 'C3019'): 0.34425024818830924,\n",
       " ('C17693', 'U1289', 'C3758'): 0.3496538047830743,\n",
       " ('C17693', 'U1025', 'C1046'): 0.5098234785565656,\n",
       " ('C17693', 'U3635', 'C22766'): 0.42165397376804986,\n",
       " ('C17693', 'U1145', 'C1737'): 0.4122048112815528,\n",
       " ('C17693', 'U66', 'C3635'): 0.3627191303919418,\n",
       " ('C17693', 'U1133', 'C1936'): 0.31369502736668914,\n",
       " ('C17693', 'U1506', 'C92'): 0.30575966471747,\n",
       " ('C17693', 'U1306', 'C791'): 0.27289308135088214,\n",
       " ('C17693', 'U8840', 'C370'): 0.33678976095009666,\n",
       " ('C17693', 'U5254', 'C1438'): 0.26917030012356563,\n",
       " ('C17693', 'U3005', 'C965'): 0.4594872021401185,\n",
       " ('C17693', 'U66', 'C102'): 0.3765204168656233,\n",
       " ('C17693', 'U114', 'C2388'): 0.3982385050873121,\n",
       " ('C17693', 'U66', 'C881'): 0.30289787046171407,\n",
       " ('C17693', 'U24', 'C3491'): 0.5139174009468143,\n",
       " ('C17693', 'U66', 'C1961'): 0.3307707402193841,\n",
       " ('C17693', 'U7004', 'C2519'): 0.4217320666464011,\n",
       " ('C17693', 'U86', 'C395'): 0.4317610430480618,\n",
       " ('C17693', 'U8946', 'C19038'): 0.6116769557091877,\n",
       " ('C17693', 'U3206', 'C8585'): 0.242630611862536,\n",
       " ('C17693', 'U737', 'C385'): 0.5633111144573553,\n",
       " ('C17693', 'U24', 'C1581'): 0.5019726331631056,\n",
       " ('C17693', 'U1581', 'C3019'): 0.3474467837088221,\n",
       " ('C17693', 'U66', 'C798'): 0.29606179587055953,\n",
       " ('C17693', 'U3277', 'C2519'): 0.3731221725649739,\n",
       " ('C17693', 'U1592', 'C1382'): 0.40232157177500566,\n",
       " ('C17693', 'U3005', 'C849'): 0.36800894201072387,\n",
       " ('C17693', 'U1133', 'C2079'): 0.3161514895702247,\n",
       " ('C17693', 'U7507', 'C4773'): 0.5059712529361585,\n",
       " ('C17693', 'U218', 'C92'): 0.3280323951758641,\n",
       " ('C17693', 'U2575', 'C8751'): 0.43355008835968795,\n",
       " ('C17693', 'U218', 'C1710'): 0.4877623290334973,\n",
       " ('C17693', 'U2231', 'C5618'): 0.38453576948890317,\n",
       " ('C17693', 'U7761', 'C2519'): 0.37590960437117604,\n",
       " ('C17693', 'U1145', 'C307'): 0.6492328156295251,\n",
       " ('C17693', 'U655', 'C3037'): 0.446300502221141,\n",
       " ('C17693', 'U66', 'C1944'): 0.29664569551566655,\n",
       " ('C17693', 'U1506', 'C3610'): 0.35002095418907914,\n",
       " ('C17693', 'U737', 'C10'): 0.5060936586999539,\n",
       " ('C17693', 'U66', 'C2725'): 0.39499906918407457,\n",
       " ('C17693', 'U1133', 'C2012'): 0.2992389551554478,\n",
       " ('C17693', 'U2575', 'C2519'): 0.4463913242510791,\n",
       " ('C17693', 'U9407', 'C96'): 0.40398125320084854,\n",
       " ('C17693', 'U655', 'C828'): 0.4116058165031646,\n",
       " ('C17693', 'U66', 'C3813'): 0.38624030792360026,\n",
       " ('C17693', 'U66', 'C3888'): 0.3448415895518911,\n",
       " ('C17693', 'U7507', 'C1015'): 0.3992398151191286,\n",
       " ('C17693', 'U1581', 'C115'): 0.3274320426167674,\n",
       " ('C17693', 'U8170', 'C313'): 0.28009292510315636,\n",
       " ('C17693', 'U10379', 'C3521'): 0.4558734592417458,\n",
       " ('C17693', 'U3005', 'C423'): 0.3388202673642234,\n",
       " ('C17693', 'U3005', 'C8209'): 0.42700699085578,\n",
       " ('C17693', 'U66', 'C3019'): 0.3724751589357904,\n",
       " ('C17693', 'U5087', 'C1268'): 0.5634929881760501,\n",
       " ('C17693', 'U24', 'C3435'): 0.45994367223015287,\n",
       " ('C17693', 'U1592', 'C3758'): 0.3800616730790256,\n",
       " ('C17693', 'U3549', 'C625'): 0.27117457167192227,\n",
       " ('C17693', 'U1480', 'C2388'): 0.27652171201680287,\n",
       " ('C17693', 'U66', 'C5653'): 0.31915775492560117,\n",
       " ('C17693', 'U66', 'C4610'): 0.3295486433016355,\n",
       " ('C17693', 'U218', 'C3288'): 0.4061780616721923,\n",
       " ('C17693', 'U1106', 'C4554'): 0.45404977809865465,\n",
       " ('C17693', 'U1581', 'C1006'): 0.3246449758604249,\n",
       " ('C17693', 'U66', 'C4106'): 0.32928454223564757,\n",
       " ('C17693', 'U1506', 'C2388'): 0.3512111531918091,\n",
       " ('C17693', 'U415', 'C1570'): 0.5133918894101361,\n",
       " ('C17693', 'U66', 'C423'): 0.3263671368114954,\n",
       " ('C17693', 'U2758', 'C10405'): 0.4750301383177952,\n",
       " ('C17693', 'U8777', 'C1500'): 0.5295170920888927,\n",
       " ('C17693', 'U1048', 'C12320'): 0.5546069723962641,\n",
       " ('C17693', 'U66', 'C368'): 0.4716376848731734,\n",
       " ('C17693', 'U162', 'C2388'): 0.37264766093635543,\n",
       " ('C17693', 'U66', 'C2254'): 0.28671840261730935,\n",
       " ('C17693', 'U3005', 'C1737'): 0.3850143648019612,\n",
       " ('C17693', 'U2575', 'C10'): 0.4386462509726987,\n",
       " ('C17693', 'U66', 'C1042'): 0.306748532934335,\n",
       " ('C17693', 'U66', 'C429'): 0.3785593920746899,\n",
       " ('C17693', 'U66', 'C1096'): 0.39127937398149704,\n",
       " ('C17693', 'U66', 'C2079'): 0.3111566243783588,\n",
       " ('C17693', 'U3005', 'C1302'): 0.43148716804402093,\n",
       " ('C17693', 'U66', 'C155'): 0.38436899339878666,\n",
       " ('C17693', 'U3005', 'C1944'): 0.36582566256365945,\n",
       " ('C19932', 'U737', 'C625'): 0.2774527156504716,\n",
       " ('C17693', 'U679', 'C1980'): 0.3724102225325187,\n",
       " ('C17693', 'U1106', 'C21919'): 0.4235328407843644,\n",
       " ('C17693', 'U3005', 'C3303'): 0.3900788607285437,\n",
       " ('C17693', 'U3005', 'C477'): 0.423370519041265,\n",
       " ('C17693', 'U12', 'C368'): 0.7195494911445588,\n",
       " ('C17693', 'U3005', 'C1936'): 0.4039828037019166,\n",
       " ('C17693', 'U3575', 'C5030'): 0.3432335034025019,\n",
       " ('C17693', 'U293', 'C3422'): 0.5002825388352747,\n",
       " ('C17693', 'U5087', 'C21963'): 0.49854669324282763,\n",
       " ('C17693', 'U8777', 'C583'): 0.452423800014374,\n",
       " ('C17693', 'U66', 'C1737'): 0.3428801323148414,\n",
       " ('C17693', 'U66', 'C1006'): 0.32439190736060264,\n",
       " ('C17693', 'U3635', 'C1438'): 0.28904445632274667,\n",
       " ('C17693', 'U8601', 'C636'): 0.680397067997982,\n",
       " ('C17693', 'U3005', 'C52'): 0.37853489620841857,\n",
       " ('C17693', 'U1592', 'C395'): 0.503890140609333,\n",
       " ('C17693', 'U8170', 'C1269'): 0.4004749897374034,\n",
       " ('C17693', 'U66', 'C1482'): 0.3377439742355933,\n",
       " ('C17693', 'U218', 'C2388'): 0.421763391978581,\n",
       " ('C17693', 'U4978', 'C1448'): 0.5857009560745468,\n",
       " ('C17693', 'U66', 'C1936'): 0.3353904482298428,\n",
       " ('C17693', 'U3005', 'C2604'): 0.3922126430402228,\n",
       " ('C17693', 'U3005', 'C3380'): 0.43243054779158957,\n",
       " ('C17693', 'U12', 'C366'): 0.7730835399664322,\n",
       " ('C17693', 'U66', 'C506'): 0.35015004290116775,\n",
       " ('C17693', 'U66', 'C5111'): 0.37197737795075336,\n",
       " ('C17693', 'U7507', 'C16401'): 0.4348615194588123,\n",
       " ('C17693', 'U1506', 'C423'): 0.23584334323022807,\n",
       " ('C17693', 'U6691', 'C1936'): 0.25121103341558076,\n",
       " ('C17693', 'U3005', 'C2079'): 0.4311582025437063,\n",
       " ('C17693', 'U3406', 'C8209'): 0.43309233424057303,\n",
       " ('C17693', 'U1289', 'C2519'): 0.5517022645460083,\n",
       " ('C19932', 'U737', 'C529'): 0.2569646662118319,\n",
       " ('C17693', 'U1600', 'C16088'): 0.28473171505840467,\n",
       " ('C17693', 'U66', 'C3170'): 0.33014243476297156,\n",
       " ('C17693', 'U795', 'C10005'): 0.3169562690958596,\n",
       " ('C17693', 'U66', 'C22176'): 0.3348748566187319,\n",
       " ('C17693', 'U1133', 'C3635'): 0.3419739318712383,\n",
       " ('C17693', 'U66', 'C92'): 0.3576126704072292,\n",
       " ('C17693', 'U8777', 'C3388'): 0.48119807332618675,\n",
       " ('C17693', 'U86', 'C10'): 0.35148307692316755,\n",
       " ('C17693', 'U66', 'C1710'): 0.4106382459890842,\n",
       " ('C17693', 'U66', 'C3380'): 0.33935681362815046,\n",
       " ('C17693', 'U8601', 'C20819'): 0.5717965659777767,\n",
       " ('C17693', 'U78', 'C1581'): 0.42364508109507193,\n",
       " ('C17693', 'U4448', 'C1224'): 0.6501074919621975}"
      ]
     },
     "execution_count": 84,
     "metadata": {},
     "output_type": "execute_result"
    }
   ],
   "source": [
    "test_result[\"true_negative\"]"
   ]
  },
  {
   "cell_type": "code",
   "execution_count": 42,
   "metadata": {},
   "outputs": [
    {
     "data": {
      "text/plain": [
       "0"
      ]
     },
     "execution_count": 42,
     "metadata": {},
     "output_type": "execute_result"
    }
   ],
   "source": [
    "host_profile[\"C687\"]"
   ]
  },
  {
   "cell_type": "code",
   "execution_count": 55,
   "metadata": {},
   "outputs": [
    {
     "ename": "KeyError",
     "evalue": "'C452'",
     "output_type": "error",
     "traceback": [
      "\u001b[0;31m---------------------------------------------------------------------------\u001b[0m",
      "\u001b[0;31mKeyError\u001b[0m                                  Traceback (most recent call last)",
      "\u001b[0;32m<ipython-input-55-b6f0ab0a98f0>\u001b[0m in \u001b[0;36m<module>\u001b[0;34m\u001b[0m\n\u001b[0;32m----> 1\u001b[0;31m \u001b[0mhost_profile\u001b[0m\u001b[0;34m[\u001b[0m\u001b[0;34m\"C452\"\u001b[0m\u001b[0;34m]\u001b[0m\u001b[0;34m\u001b[0m\u001b[0;34m\u001b[0m\u001b[0m\n\u001b[0m",
      "\u001b[0;31mKeyError\u001b[0m: 'C452'"
     ]
    }
   ],
   "source": [
    "# add filter step\n",
    "\n",
    "# open clustering profile\n",
    "df_profile = pd.read_csv(\"/home/andrewngo/Desktop/MLTracker/server_profile_prop_labels_27.csv\")\n",
    "host_profile = df_profile[[\"profile_labels\", \"computer\"]]\n",
    "host_profile = host_profile.set_index('computer').to_dict()['profile_labels']\n",
    "\n",
    "\n",
    "# create a dict of path and labels \n",
    "label_dict = dict()\n",
    "for i in range(len(pred_test)):\n",
    "    label_dict[test_data_path[i]] = i\n",
    "\n",
    "path_to_index = convert_nodeid_to_user_CUC(label_dict, computer2nodeid, user2nodeid)\n",
    "index_to_path = {path_to_index[i]:i for i in path_to_index}\n",
    "# filter the false positive (bruce force)\n",
    "\n",
    "new_pred = []\n",
    "for i in range(len(pred_test)):\n",
    "    if pred_test[i] == 1:\n",
    "        try: \n",
    "            if host_profile[index_to_path[i][0]] == host_profile[index_to_path[i][2]]:\n",
    "                new_pred.append(0)\n",
    "            else:\n",
    "                new_pred.append(pred_test[i])\n",
    "        except:\n",
    "            new_pred.append(pred_test[i])\n",
    "    else:\n",
    "        new_pred.append(pred_test[i])\n",
    "temp = new_pred\n",
    "\n",
    "new_pred = []\n",
    "for i in range(len(pred_test)):\n",
    "    if pred_test[i] == 1:\n",
    "        try: \n",
    "            if host_profile[index_to_path[i][0]] == host_profile[index_to_path[i][2]]:\n",
    "                new_pred.append(0)\n",
    "            else:\n",
    "                new_pred.append(pred_test[i])\n",
    "        except:\n",
    "            new_pred.append(pred_test[i])\n",
    "    else:\n",
    "        new_pred.append(pred_test[i])\n",
    "        \n",
    "        \n",
    "        "
   ]
  },
  {
   "cell_type": "code",
   "execution_count": 71,
   "metadata": {},
   "outputs": [
    {
     "data": {
      "text/plain": [
       "{('C17693', 'U3005', 'C687'): 0.7222209473002159,\n",
       " ('C17693', 'U4448', 'C1555'): 0.7222209473002159,\n",
       " ('C17693', 'U66', 'C452'): 0.7222209473002159,\n",
       " ('C17693', 'U218', 'C5653'): 0.7222209473002159,\n",
       " ('C17693', 'U342', 'C2519'): 0.7222209473002159,\n",
       " ('C17693', 'U3005', 'C78'): 0.7222209473002159,\n",
       " ('C17693', 'U24', 'C2378'): 0.7222209473002159,\n",
       " ('C17693', 'U2231', 'C1432'): 0.7222209473002159,\n",
       " ('C17693', 'U1569', 'C1632'): 0.7222209473002159,\n",
       " ('C17693', 'U13', 'C3288'): 0.7222209473002159,\n",
       " ('C17693', 'U66', 'C243'): 0.7222209473002159,\n",
       " ('C17693', 'U6691', 'C2079'): 0.7222209473002159,\n",
       " ('C17693', 'U207', 'C2388'): 0.7222209473002159,\n",
       " ('C17693', 'U4448', 'C22275'): 0.7222209473002159,\n",
       " ('C17693', 'U66', 'C2012'): 0.7222209473002159,\n",
       " ('C17693', 'U3635', 'C8209'): 0.7222209473002159,\n",
       " ('C17693', 'U66', 'C5439'): 0.7222209473002159,\n",
       " ('C17693', 'U114', 'C3610'): 0.7222209473002159,\n",
       " ('C17693', 'U3005', 'C506'): 0.7222209473002159,\n",
       " ('C17693', 'U1025', 'C338'): 0.7222209473002159,\n",
       " ('C17693', 'U3718', 'C9692'): 0.7222209473002159,\n",
       " ('C17693', 'U8168', 'C19038'): 0.7222209077191758,\n",
       " ('C17693', 'U415', 'C1906'): 0.7222209473002159,\n",
       " ('C17693', 'U1025', 'C3597'): 0.7222209473002159,\n",
       " ('C17693', 'U1145', 'C2388'): 0.7222209473002159,\n",
       " ('C17693', 'U24', 'C4934'): 0.7222209473002159,\n",
       " ('C17693', 'U3549', 'C529'): 0.7222209473002159,\n",
       " ('C17693', 'U7594', 'C16563'): 0.7222209473002159,\n",
       " ('C17693', 'U1723', 'C2519'): 0.7222209473002159,\n",
       " ('C17693', 'U374', 'C1461'): 0.7222209473002159,\n",
       " ('C17693', 'U66', 'C1015'): 0.7222209473002159,\n",
       " ('C17693', 'U524', 'C15'): 0.7222209473002159,\n",
       " ('C17693', 'U2575', 'C1438'): 0.7222209473002159,\n",
       " ('C17693', 'U66', 'C3610'): 0.7222209473002159,\n",
       " ('C17693', 'U1467', 'C3597'): 0.7222209473002159,\n",
       " ('C17693', 'U8168', 'C685'): 0.7222209473002159,\n",
       " ('C17693', 'U415', 'C3173'): 0.7222209473002159,\n",
       " ('C17693', 'U415', 'C486'): 0.7222209473002159,\n",
       " ('C17693', 'U3005', 'C1710'): 0.7222209473002159,\n",
       " ('C17693', 'U4448', 'C9006'): 0.7222209473002159,\n",
       " ('C17693', 'U1145', 'C2877'): 0.7222209473002159,\n",
       " ('C17693', 'U1450', 'C1268'): 0.7222209473002159,\n",
       " ('C17693', 'U66', 'C3037'): 0.7222209473002159,\n",
       " ('C17693', 'U995', 'C1014'): 0.7222209473002159,\n",
       " ('C17693', 'U114', 'C1710'): 0.7222209473002159,\n",
       " ('C17693', 'U66', 'C3758'): 0.7222209473002159,\n",
       " ('C17693', 'U8777', 'C1710'): 0.7222209473002159,\n",
       " ('C17693', 'U3005', 'C2012'): 0.7222209473002159,\n",
       " ('C17693', 'U3005', 'C3629'): 0.7222209473002159,\n",
       " ('C17693', 'U3764', 'C9723'): 0.7222209077191758,\n",
       " ('C17693', 'U1519', 'C849'): 0.7222209077191758,\n",
       " ('C17693', 'U218', 'C1936'): 0.7222209473002159,\n",
       " ('C17693', 'U1592', 'C18464'): 0.7222209473002159,\n",
       " ('C17693', 'U3549', 'C1887'): 0.7222209473002159,\n",
       " ('C17693', 'U66', 'C5343'): 0.7222209473002159,\n",
       " ('C17693', 'U1145', 'C3019'): 0.7222209473002159,\n",
       " ('C17693', 'U20', 'C368'): 0.7222209473002159,\n",
       " ('C17693', 'U66', 'C2388'): 0.7222209473002159,\n",
       " ('C17693', 'U66', 'C553'): 0.7222209473002159,\n",
       " ('C17693', 'U66', 'C2013'): 0.7222209473002159,\n",
       " ('C17693', 'U66', 'C626'): 0.7222209473002159,\n",
       " ('C17693', 'U3549', 'C457'): 0.7222209473002159,\n",
       " ('C17693', 'U66', 'C1509'): 0.7222209473002159,\n",
       " ('C17693', 'U737', 'C3491'): 0.7222209473002159,\n",
       " ('C17693', 'U212', 'C126'): 0.7222209473002159,\n",
       " ('C17693', 'U8601', 'C10817'): 0.7222209473002159,\n",
       " ('C17693', 'U6572', 'C90'): 0.7222209473002159,\n",
       " ('C17693', 'U66', 'C3699'): 0.7222209473002159,\n",
       " ('C17693', 'U4112', 'C1438'): 0.7222209473002159,\n",
       " ('C17693', 'U3005', 'C1887'): 0.7222209473002159,\n",
       " ('C17693', 'U66', 'C22174'): 0.7222209473002159,\n",
       " ('C17693', 'U66', 'C1191'): 0.7222209473002159,\n",
       " ('C17693', 'U9263', 'C1015'): 0.7222209473002159,\n",
       " ('C17693', 'U825', 'C2669'): 0.7222209473002159,\n",
       " ('C17693', 'U5087', 'C1448'): 0.7222209473002159,\n",
       " ('C17693', 'U66', 'C3755'): 0.7222209473002159,\n",
       " ('C17693', 'U66', 'C4403'): 0.7222209473002159,\n",
       " ('C17693', 'U3005', 'C1319'): 0.7222209473002159,\n",
       " ('C17693', 'U4448', 'C1438'): 0.7222209473002159,\n",
       " ('C17693', 'U7507', 'C486'): 0.7222209473002159,\n",
       " ('C17693', 'U3005', 'C1810'): 0.7222209473002159,\n",
       " ('C17693', 'U1789', 'C3019'): 0.7222209077191758,\n",
       " ('C17693', 'U7311', 'C977'): 0.7222209077191758,\n",
       " ('C17693', 'U66', 'C1085'): 0.7222209473002159,\n",
       " ('C17693', 'U453', 'C2388'): 0.7222209473002159,\n",
       " ('C17693', 'U13', 'C430'): 0.7222209473002159,\n",
       " ('C17693', 'U3005', 'C3635'): 0.7222209473002159,\n",
       " ('C17693', 'U1145', 'C115'): 0.7222209473002159,\n",
       " ('C17693', 'U2575', 'C5618'): 0.7222209473002159,\n",
       " ('C17693', 'U3549', 'C586'): 0.7222209473002159,\n",
       " ('C17693', 'U66', 'C398'): 0.7222209473002159,\n",
       " ('C17693', 'U66', 'C3288'): 0.7222209473002159,\n",
       " ('C17693', 'U218', 'C2079'): 0.7222209473002159,\n",
       " ('C17693', 'U2231', 'C1438'): 0.7222209473002159,\n",
       " ('C17693', 'U3549', 'C528'): 0.7222209473002159,\n",
       " ('C17693', 'U1592', 'C20677'): 0.7222209473002159,\n",
       " ('C17693', 'U9263', 'C828'): 0.7222209473002159,\n",
       " ('C17693', 'U1723', 'C1438'): 0.7222209473002159,\n",
       " ('C17693', 'U66', 'C849'): 0.7222209473002159,\n",
       " ('C17693', 'U1569', 'C3019'): 0.7222209473002159,\n",
       " ('C17693', 'U737', 'C2578'): 0.7222209473002159,\n",
       " ('C17693', 'U655', 'C1710'): 0.7222209473002159,\n",
       " ('C17693', 'U66', 'C1964'): 0.7222209473002159,\n",
       " ('C17693', 'U1145', 'C3173'): 0.7222209473002159,\n",
       " ('C17693', 'U2231', 'C3249'): 0.7222209473002159,\n",
       " ('C17693', 'U227', 'C177'): 0.7222209473002159,\n",
       " ('C17693', 'U3005', 'C246'): 0.7222209473002159,\n",
       " ('C17693', 'U6764', 'C3019'): 0.7222209473002159,\n",
       " ('C17693', 'U1289', 'C3758'): 0.7222209473002159,\n",
       " ('C17693', 'U1025', 'C1046'): 0.7222209473002159,\n",
       " ('C17693', 'U3635', 'C22766'): 0.7222209473002159,\n",
       " ('C17693', 'U1145', 'C1737'): 0.7222209473002159,\n",
       " ('C17693', 'U66', 'C3635'): 0.7222209473002159,\n",
       " ('C17693', 'U1133', 'C1936'): 0.7222209077191758,\n",
       " ('C17693', 'U1506', 'C92'): 0.7222209077191758,\n",
       " ('C17693', 'U1306', 'C791'): 0.7222209473002159,\n",
       " ('C17693', 'U8840', 'C370'): 0.7222209473002159,\n",
       " ('C17693', 'U5254', 'C1438'): 0.7222209473002159,\n",
       " ('C17693', 'U3005', 'C965'): 0.7222209473002159,\n",
       " ('C17693', 'U66', 'C102'): 0.7222209473002159,\n",
       " ('C17693', 'U114', 'C2388'): 0.7222209473002159,\n",
       " ('C17693', 'U66', 'C881'): 0.7222209473002159,\n",
       " ('C17693', 'U24', 'C3491'): 0.7222209473002159,\n",
       " ('C17693', 'U66', 'C1961'): 0.7222209473002159,\n",
       " ('C17693', 'U7004', 'C2519'): 0.7222209473002159,\n",
       " ('C17693', 'U86', 'C395'): 0.7222209473002159,\n",
       " ('C17693', 'U8946', 'C19038'): 0.7222209473002159,\n",
       " ('C17693', 'U3206', 'C8585'): 0.7222209473002159,\n",
       " ('C17693', 'U737', 'C385'): 0.7222209473002159,\n",
       " ('C17693', 'U24', 'C1581'): 0.7222209473002159,\n",
       " ('C17693', 'U1581', 'C3019'): 0.7222209473002159,\n",
       " ('C17693', 'U66', 'C798'): 0.7222209473002159,\n",
       " ('C17693', 'U3277', 'C2519'): 0.7222209473002159,\n",
       " ('C17693', 'U1592', 'C1382'): 0.7222209473002159,\n",
       " ('C17693', 'U3005', 'C849'): 0.7222209473002159,\n",
       " ('C17693', 'U1133', 'C2079'): 0.7222209473002159,\n",
       " ('C17693', 'U7507', 'C4773'): 0.7222209473002159,\n",
       " ('C17693', 'U218', 'C92'): 0.7222209473002159,\n",
       " ('C17693', 'U2575', 'C8751'): 0.7222209473002159,\n",
       " ('C17693', 'U218', 'C1710'): 0.7222209473002159,\n",
       " ('C17693', 'U2231', 'C5618'): 0.7222209473002159,\n",
       " ('C17693', 'U7761', 'C2519'): 0.7222209473002159,\n",
       " ('C17693', 'U1145', 'C307'): 0.7222209473002159,\n",
       " ('C17693', 'U655', 'C3037'): 0.7222209473002159,\n",
       " ('C17693', 'U66', 'C1944'): 0.7222209473002159,\n",
       " ('C17693', 'U1506', 'C3610'): 0.7222209077191758,\n",
       " ('C17693', 'U737', 'C10'): 0.7222209077191758,\n",
       " ('C17693', 'U66', 'C2725'): 0.7222209473002159,\n",
       " ('C17693', 'U1133', 'C2012'): 0.7222209473002159,\n",
       " ('C17693', 'U2575', 'C2519'): 0.7222209473002159,\n",
       " ('C17693', 'U9407', 'C96'): 0.7222209473002159,\n",
       " ('C17693', 'U655', 'C828'): 0.7222209473002159,\n",
       " ('C17693', 'U66', 'C3813'): 0.7222209473002159,\n",
       " ('C17693', 'U66', 'C3888'): 0.7222209473002159,\n",
       " ('C17693', 'U7507', 'C1015'): 0.7222209473002159,\n",
       " ('C17693', 'U1581', 'C115'): 0.7222209473002159,\n",
       " ('C17693', 'U8170', 'C313'): 0.7222209473002159,\n",
       " ('C17693', 'U10379', 'C3521'): 0.7222209473002159,\n",
       " ('C17693', 'U3005', 'C423'): 0.7222209473002159,\n",
       " ('C17693', 'U3005', 'C8209'): 0.7222209473002159,\n",
       " ('C17693', 'U66', 'C3019'): 0.7222209473002159,\n",
       " ('C17693', 'U5087', 'C1268'): 0.7222209473002159,\n",
       " ('C17693', 'U24', 'C3435'): 0.7222209473002159,\n",
       " ('C17693', 'U1592', 'C3758'): 0.7222209473002159,\n",
       " ('C17693', 'U3549', 'C625'): 0.7222209473002159,\n",
       " ('C17693', 'U1480', 'C2388'): 0.7222209473002159,\n",
       " ('C17693', 'U66', 'C5653'): 0.7222209473002159,\n",
       " ('C17693', 'U66', 'C4610'): 0.7222209473002159,\n",
       " ('C17693', 'U218', 'C3288'): 0.7222209473002159,\n",
       " ('C17693', 'U1106', 'C4554'): 0.7222209473002159,\n",
       " ('C17693', 'U1581', 'C1006'): 0.7222209473002159,\n",
       " ('C17693', 'U66', 'C4106'): 0.7222209473002159,\n",
       " ('C17693', 'U1506', 'C2388'): 0.7222209473002159,\n",
       " ('C17693', 'U415', 'C1570'): 0.7222209473002159,\n",
       " ('C17693', 'U66', 'C423'): 0.7222209473002159,\n",
       " ('C17693', 'U2758', 'C10405'): 0.7222209473002159,\n",
       " ('C17693', 'U8777', 'C1500'): 0.7222209473002159,\n",
       " ('C17693', 'U1048', 'C12320'): 0.7222209077191758,\n",
       " ('C17693', 'U66', 'C368'): 0.7222209473002159,\n",
       " ('C17693', 'U162', 'C2388'): 0.7222209473002159,\n",
       " ('C17693', 'U66', 'C2254'): 0.7222209473002159,\n",
       " ('C17693', 'U3005', 'C1737'): 0.7222209473002159,\n",
       " ('C17693', 'U2575', 'C10'): 0.7222209473002159,\n",
       " ('C17693', 'U66', 'C1042'): 0.7222209473002159,\n",
       " ('C17693', 'U66', 'C429'): 0.7222209473002159,\n",
       " ('C17693', 'U66', 'C1096'): 0.7222209473002159,\n",
       " ('C17693', 'U66', 'C2079'): 0.7222209473002159,\n",
       " ('C17693', 'U3005', 'C1302'): 0.7222209473002159,\n",
       " ('C17693', 'U66', 'C155'): 0.7222209473002159,\n",
       " ('C17693', 'U3005', 'C1944'): 0.7222209473002159,\n",
       " ('C17693', 'U679', 'C1980'): 0.7222209473002159,\n",
       " ('C17693', 'U1106', 'C21919'): 0.7222209473002159,\n",
       " ('C17693', 'U3005', 'C3303'): 0.7222209473002159,\n",
       " ('C17693', 'U3005', 'C477'): 0.7222209473002159,\n",
       " ('C17693', 'U12', 'C368'): 0.7222209473002159,\n",
       " ('C17693', 'U3005', 'C1936'): 0.7222209473002159,\n",
       " ('C17693', 'U3575', 'C5030'): 0.7222209473002159,\n",
       " ('C17693', 'U293', 'C3422'): 0.7222209473002159,\n",
       " ('C17693', 'U5087', 'C21963'): 0.7222209473002159,\n",
       " ('C17693', 'U8777', 'C583'): 0.7222209473002159,\n",
       " ('C17693', 'U66', 'C1737'): 0.7222209473002159,\n",
       " ('C17693', 'U66', 'C1006'): 0.7222209473002159,\n",
       " ('C17693', 'U3635', 'C1438'): 0.7222209473002159,\n",
       " ('C17693', 'U8601', 'C636'): 0.7222209473002159,\n",
       " ('C17693', 'U3005', 'C52'): 0.7222209473002159,\n",
       " ('C17693', 'U1592', 'C395'): 0.7222209077191758,\n",
       " ('C17693', 'U8170', 'C1269'): 0.7222209077191758,\n",
       " ('C17693', 'U66', 'C1482'): 0.7222209473002159,\n",
       " ('C17693', 'U218', 'C2388'): 0.7222209473002159,\n",
       " ('C17693', 'U4978', 'C1448'): 0.7222209473002159,\n",
       " ('C17693', 'U66', 'C1936'): 0.7222209473002159,\n",
       " ('C17693', 'U3005', 'C2604'): 0.7222209473002159,\n",
       " ('C17693', 'U3005', 'C3380'): 0.7222209473002159,\n",
       " ('C17693', 'U12', 'C366'): 0.7222209473002159,\n",
       " ('C17693', 'U66', 'C506'): 0.7222209473002159,\n",
       " ('C17693', 'U66', 'C5111'): 0.7222209473002159,\n",
       " ('C17693', 'U7507', 'C16401'): 0.7222209473002159,\n",
       " ('C17693', 'U1506', 'C423'): 0.7222209473002159,\n",
       " ('C17693', 'U6691', 'C1936'): 0.7222209473002159,\n",
       " ('C17693', 'U3005', 'C2079'): 0.7222209473002159,\n",
       " ('C17693', 'U3406', 'C8209'): 0.7222209473002159,\n",
       " ('C17693', 'U1289', 'C2519'): 0.7222209473002159,\n",
       " ('C17693', 'U1600', 'C16088'): 0.7222209473002159,\n",
       " ('C17693', 'U66', 'C3170'): 0.7222209473002159,\n",
       " ('C17693', 'U795', 'C10005'): 0.7222209473002159,\n",
       " ('C17693', 'U66', 'C22176'): 0.7222209473002159,\n",
       " ('C17693', 'U1133', 'C3635'): 0.7222209473002159,\n",
       " ('C17693', 'U66', 'C92'): 0.7222209473002159,\n",
       " ('C17693', 'U8777', 'C3388'): 0.7222209473002159,\n",
       " ('C17693', 'U86', 'C10'): 0.7222209473002159,\n",
       " ('C17693', 'U66', 'C1710'): 0.7222209473002159,\n",
       " ('C17693', 'U66', 'C3380'): 0.7222209473002159,\n",
       " ('C17693', 'U8601', 'C20819'): 0.7222209473002159,\n",
       " ('C17693', 'U78', 'C1581'): 0.7222209473002159,\n",
       " ('C17693', 'U4448', 'C1224'): 0.7222209473002159}"
      ]
     },
     "execution_count": 71,
     "metadata": {},
     "output_type": "execute_result"
    }
   ],
   "source": [
    "test_result[\"true_negative\"]"
   ]
  },
  {
   "cell_type": "code",
   "execution_count": 111,
   "metadata": {},
   "outputs": [],
   "source": [
    "\n",
    "test_result_dir = \"test_result__outc2\" + str(seed) + \".pkl\"\n",
    "with open(test_result_dir, 'wb') as f:\n",
    "    pickle.dump(test_result, f)"
   ]
  },
  {
   "cell_type": "code",
   "execution_count": 107,
   "metadata": {},
   "outputs": [],
   "source": []
  },
  {
   "cell_type": "code",
   "execution_count": 109,
   "metadata": {},
   "outputs": [
    {
     "data": {
      "text/plain": [
       "{(13379, 16623, 8): 0.1353975935063848, (13379, 16623, 1): 0.15727336717722254}"
      ]
     },
     "execution_count": 109,
     "metadata": {},
     "output_type": "execute_result"
    }
   ],
   "source": [
    "# false_positive_path_test = convert_nodeid_to_user_CUC(false_positive_path_test, computer2nodeid, user2nodeid)\n",
    "false_positive_path_test"
   ]
  },
  {
   "cell_type": "code",
   "execution_count": 110,
   "metadata": {},
   "outputs": [
    {
     "data": {
      "text/plain": [
       "0.15994453049122448"
      ]
     },
     "execution_count": 110,
     "metadata": {},
     "output_type": "execute_result"
    }
   ],
   "source": [
    "threshold"
   ]
  },
  {
   "cell_type": "code",
   "execution_count": null,
   "metadata": {},
   "outputs": [],
   "source": []
  },
  {
   "cell_type": "code",
   "execution_count": 47,
   "metadata": {},
   "outputs": [
    {
     "data": {
      "text/plain": [
       "15425"
      ]
     },
     "execution_count": 47,
     "metadata": {},
     "output_type": "execute_result"
    }
   ],
   "source": [
    "nodeid2computer = {computer2nodeid[i]:i for i in computer2nodeid}\n",
    "len((nodeid2computer))"
   ]
  },
  {
   "cell_type": "code",
   "execution_count": null,
   "metadata": {},
   "outputs": [],
   "source": [
    "normal_train_dict = {out_normal_dict[i]:i for i in out_train_keys_sample}\n",
    "normal_test_dict = {out_normal_dict[i]:i for i in out_test_keys_sample}\n",
    "normal_val_dict = {out_normal_dict[i]:i for i in out_val_keys_sample}\n",
    "\n",
    "mal_test_dict = {out_mal_test_dict[i]:i for i in out_mal_test_dict}\n",
    "mal_val_dict = {out_mal_train_val_dict[i]:i for i in out_mal_train_val_dict}\n",
    "\n",
    "data_dict = {}\n",
    "data_dict = {**normal_train_dict, **normal_test_dict}\n",
    "data_dict = {**data_dict, **normal_val_dict}\n",
    "data_dict = {**data_dict, **mal_test_dict}\n",
    "data_dict = {**data_dict, **mal_val_dict}\n",
    "\n",
    "\n",
    "train_path = [data_dict[i] for i in normal_train_data]\n",
    "# out_train_dict_sample = {out_normal_dict[i]:i for i in out_train_keys_sample}\n",
    "train_path\n"
   ]
  },
  {
   "cell_type": "code",
   "execution_count": 461,
   "metadata": {},
   "outputs": [
    {
     "data": {
      "text/plain": [
       "tensor([[-1.2710e-09,  3.0780e-41],\n",
       "        [ 1.1244e-33,  3.0781e-41],\n",
       "        [ 4.4842e-44,  0.0000e+00]])"
      ]
     },
     "execution_count": 461,
     "metadata": {},
     "output_type": "execute_result"
    }
   ],
   "source": [
    "temp = torch.Tensor(3,2)\n",
    "temp"
   ]
  },
  {
   "cell_type": "code",
   "execution_count": 236,
   "metadata": {},
   "outputs": [
    {
     "name": "stdout",
     "output_type": "stream",
     "text": [
      "tensor([-1.3277e-22,  3.0780e-41])\n",
      "tensor([-8.7377e-19,  3.0780e-41])\n",
      "tensor([1.1210e-43, 0.0000e+00])\n"
     ]
    }
   ],
   "source": [
    "for i in temp:\n",
    "    print(i)"
   ]
  },
  {
   "cell_type": "code",
   "execution_count": null,
   "metadata": {},
   "outputs": [],
   "source": []
  },
  {
   "cell_type": "code",
   "execution_count": null,
   "metadata": {},
   "outputs": [],
   "source": []
  },
  {
   "cell_type": "code",
   "execution_count": null,
   "metadata": {
    "colab": {
     "base_uri": "https://localhost:8080/"
    },
    "id": "5iLAZNQNg3m1",
    "outputId": "2e0ef3e6-a0db-4e7f-9ffc-ae9f82596e2d",
    "scrolled": true
   },
   "outputs": [],
   "source": [
    "# Training the model\n",
    "history = model.fit(normal_train_data,normal_train_data,\n",
    "                    epochs = 50,\n",
    "                    batch_size = 128,\n",
    "                    validation_data = (train_data_scaled[:,1:], train_data_scaled[:,1:]),\n",
    "                    shuffle = True,\n",
    "                    callbacks = [early_stopping])"
   ]
  },
  {
   "cell_type": "code",
   "execution_count": 39,
   "metadata": {
    "id": "sJaXZqEpg8GE"
   },
   "outputs": [],
   "source": [
    "# predictions for normal test data points\n",
    "encoder_out = model.encoder(normal_val_data).numpy()\n",
    "decoder_out = model.decoder(encoder_out).numpy()"
   ]
  },
  {
   "cell_type": "code",
   "execution_count": 40,
   "metadata": {
    "colab": {
     "base_uri": "https://localhost:8080/"
    },
    "id": "zLNcwREih5BC",
    "outputId": "83f2ed6f-92c2-4824-806e-2de7151dc934"
   },
   "outputs": [
    {
     "data": {
      "text/plain": [
       "(4997, 8)"
      ]
     },
     "execution_count": 40,
     "metadata": {},
     "output_type": "execute_result"
    }
   ],
   "source": [
    "encoder_out.shape"
   ]
  },
  {
   "cell_type": "code",
   "execution_count": 41,
   "metadata": {
    "colab": {
     "base_uri": "https://localhost:8080/"
    },
    "id": "V6m0WV80h6rW",
    "outputId": "4f2cc0dd-e582-428e-e33a-3a114bf5eec2"
   },
   "outputs": [
    {
     "data": {
      "text/plain": [
       "(4997, 128)"
      ]
     },
     "execution_count": 41,
     "metadata": {},
     "output_type": "execute_result"
    }
   ],
   "source": [
    "decoder_out.shape"
   ]
  },
  {
   "cell_type": "code",
   "execution_count": 42,
   "metadata": {
    "colab": {
     "base_uri": "https://localhost:8080/",
     "height": 282
    },
    "id": "lyGlYWPah7_h",
    "outputId": "876c8dd2-1a50-4150-d8da-20dc9c62df3a"
   },
   "outputs": [
    {
     "data": {
      "text/plain": [
       "[<matplotlib.lines.Line2D at 0x7faffd79b7f0>]"
      ]
     },
     "execution_count": 42,
     "metadata": {},
     "output_type": "execute_result"
    },
    {
     "data": {
      "image/png": "[encoded data removed]",
      "text/plain": [
       "<Figure size 432x288 with 1 Axes>"
      ]
     },
     "metadata": {
      "needs_background": "light"
     },
     "output_type": "display_data"
    }
   ],
   "source": [
    "# plotting normal test data point and its predictiction by the autoencoder\n",
    "plt.plot(normal_test_data[0], 'b')\n",
    "plt.plot(decoder_out[0], 'r')"
   ]
  },
  {
   "cell_type": "code",
   "execution_count": 43,
   "metadata": {
    "id": "m7ZTj6saiJPr"
   },
   "outputs": [],
   "source": [
    "# predictions for anomaly test data points\n",
    "encoder_out_a = model.encoder(mal_test_data).numpy()\n",
    "decoder_out_a = model.decoder(encoder_out_a).numpy()"
   ]
  },
  {
   "cell_type": "code",
   "execution_count": 44,
   "metadata": {
    "colab": {
     "base_uri": "https://localhost:8080/",
     "height": 282
    },
    "id": "P2UI_yvOi33V",
    "outputId": "31551fd0-5eaa-42b1-c74e-67982c0b541b"
   },
   "outputs": [
    {
     "data": {
      "text/plain": [
       "[<matplotlib.lines.Line2D at 0x7faffd3fa280>]"
      ]
     },
     "execution_count": 44,
     "metadata": {},
     "output_type": "execute_result"
    },
    {
     "data": {
      "image/png": "[encoded data removed]",
      "text/plain": [
       "<Figure size 432x288 with 1 Axes>"
      ]
     },
     "metadata": {
      "needs_background": "light"
     },
     "output_type": "display_data"
    }
   ],
   "source": [
    "# plotting anomaly test data point and its predictiction by the autoencoder\n",
    "plt.plot(mal_test_data[0], 'b')\n",
    "plt.plot(decoder_out_a[0], 'r')"
   ]
  },
  {
   "cell_type": "code",
   "execution_count": 45,
   "metadata": {
    "colab": {
     "base_uri": "https://localhost:8080/",
     "height": 349
    },
    "id": "WKWvXpCFjAKu",
    "outputId": "a0c48128-28de-44bb-8fe9-ecc107616a09"
   },
   "outputs": [
    {
     "data": {
      "text/plain": [
       "(array([[0., 0., 0., ..., 0., 0., 0.],\n",
       "        [0., 0., 0., ..., 0., 0., 0.],\n",
       "        [1., 0., 0., ..., 0., 0., 0.],\n",
       "        ...,\n",
       "        [0., 0., 0., ..., 0., 0., 0.],\n",
       "        [0., 0., 1., ..., 0., 0., 0.],\n",
       "        [0., 1., 0., ..., 0., 0., 0.]]),\n",
       " array([0.00867242, 0.01720177, 0.02573112, 0.03426048, 0.04278983,\n",
       "        0.05131919, 0.05984854, 0.06837789, 0.07690725, 0.0854366 ,\n",
       "        0.09396596]),\n",
       " <a list of 4998 BarContainer objects>)"
      ]
     },
     "execution_count": 45,
     "metadata": {},
     "output_type": "execute_result"
    },
    {
     "data": {
      "image/png": "[encoded data removed]",
      "text/plain": [
       "<Figure size 432x288 with 1 Axes>"
      ]
     },
     "metadata": {
      "needs_background": "light"
     },
     "output_type": "display_data"
    }
   ],
   "source": [
    "# reconstruction loss for normal test data\n",
    "reconstructions = model.predict(normal_test_data)\n",
    "train_loss = tf.keras.losses.mae(reconstructions, normal_test_data)\n",
    "\n",
    "# Plotting histogram for recontruction loss for normal test data\n",
    "plt.hist(train_loss, bins = 10)"
   ]
  },
  {
   "cell_type": "code",
   "execution_count": 46,
   "metadata": {
    "colab": {
     "base_uri": "https://localhost:8080/"
    },
    "id": "AdmXLSBaja5j",
    "outputId": "4550b752-0670-4a3c-a4fc-c9908f2ff246"
   },
   "outputs": [
    {
     "data": {
      "text/plain": [
       "0.024661725968090385"
      ]
     },
     "execution_count": 46,
     "metadata": {},
     "output_type": "execute_result"
    }
   ],
   "source": [
    "np.mean(train_loss)"
   ]
  },
  {
   "cell_type": "code",
   "execution_count": 47,
   "metadata": {
    "colab": {
     "base_uri": "https://localhost:8080/"
    },
    "id": "vtW3CBUjjiIU",
    "outputId": "e766c857-2dc6-492d-dd45-275cb5962f1b"
   },
   "outputs": [
    {
     "data": {
      "text/plain": [
       "0.01050129499984465"
      ]
     },
     "execution_count": 47,
     "metadata": {},
     "output_type": "execute_result"
    }
   ],
   "source": [
    "np.std(train_loss)"
   ]
  },
  {
   "cell_type": "code",
   "execution_count": 48,
   "metadata": {
    "colab": {
     "base_uri": "https://localhost:8080/",
     "height": 349
    },
    "id": "-r38UR6Qjw8M",
    "outputId": "ffd1278a-b299-402a-f573-65a9b7f74bc0"
   },
   "outputs": [
    {
     "data": {
      "text/plain": [
       "(array([[1., 0., 0., ..., 0., 0., 0.],\n",
       "        [0., 0., 0., ..., 0., 0., 0.],\n",
       "        [0., 0., 0., ..., 0., 0., 0.],\n",
       "        ...,\n",
       "        [0., 0., 1., ..., 0., 0., 0.],\n",
       "        [1., 0., 0., ..., 0., 0., 0.],\n",
       "        [0., 0., 0., ..., 0., 0., 0.]]),\n",
       " array([0.01967302, 0.02231314, 0.02495327, 0.02759339, 0.03023351,\n",
       "        0.03287363, 0.03551375, 0.03815387, 0.04079399, 0.04343412,\n",
       "        0.04607424]),\n",
       " <a list of 159 BarContainer objects>)"
      ]
     },
     "execution_count": 48,
     "metadata": {},
     "output_type": "execute_result"
    },
    {
     "data": {
      "image/png": "[encoded data removed]",
      "text/plain": [
       "<Figure size 432x288 with 1 Axes>"
      ]
     },
     "metadata": {
      "needs_background": "light"
     },
     "output_type": "display_data"
    }
   ],
   "source": [
    "# reconstruction loss for anomaly test data\n",
    "reconstructions_a = model.predict(mal_test_data)\n",
    "train_loss_a = tf.keras.losses.mae(reconstructions_a, mal_test_data)\n",
    "\n",
    "# Plotting histogram for recontruction loss for anomaly test data\n",
    "plt.hist(train_loss_a, bins = 10)"
   ]
  },
  {
   "cell_type": "code",
   "execution_count": 55,
   "metadata": {
    "colab": {
     "base_uri": "https://localhost:8080/"
    },
    "id": "K_6QYRT2kpJQ",
    "outputId": "fa0ef513-0b2e-4928-8eb0-169b68bd0d2e"
   },
   "outputs": [
    {
     "data": {
      "text/plain": [
       "0.032920637652143814"
      ]
     },
     "execution_count": 55,
     "metadata": {},
     "output_type": "execute_result"
    }
   ],
   "source": [
    "np.mean(train_loss_a)"
   ]
  },
  {
   "cell_type": "code",
   "execution_count": 54,
   "metadata": {
    "colab": {
     "base_uri": "https://localhost:8080/"
    },
    "id": "XQikvTQuky7-",
    "outputId": "3f139441-04ca-4166-bf53-09388142f1c2"
   },
   "outputs": [
    {
     "data": {
      "text/plain": [
       "0.0046078258096637174"
      ]
     },
     "execution_count": 54,
     "metadata": {},
     "output_type": "execute_result"
    }
   ],
   "source": [
    "np.std(train_loss_a)"
   ]
  },
  {
   "cell_type": "code",
   "execution_count": 53,
   "metadata": {},
   "outputs": [
    {
     "data": {
      "text/plain": [
       "0.032920637652143814"
      ]
     },
     "execution_count": 53,
     "metadata": {},
     "output_type": "execute_result"
    }
   ],
   "source": [
    "np.mean(train_loss_a)"
   ]
  },
  {
   "cell_type": "code",
   "execution_count": 52,
   "metadata": {
    "id": "dy7SKgIojlJA"
   },
   "outputs": [
    {
     "data": {
      "text/plain": [
       "0.028791181810117097"
      ]
     },
     "execution_count": 52,
     "metadata": {},
     "output_type": "execute_result"
    }
   ],
   "source": [
    "# setting threshold\n",
    "# threshold = np.mean(train_loss) + 2*np.std(train_loss)\n",
    "threshold = (np.mean(train_loss) +np.mean(train_loss_a))/2\n",
    "threshold"
   ]
  },
  {
   "cell_type": "code",
   "execution_count": 51,
   "metadata": {
    "colab": {
     "base_uri": "https://localhost:8080/"
    },
    "id": "yU2D1OA1ju3-",
    "outputId": "7f41e25e-0a15-435c-8141-e742c133a8b1"
   },
   "outputs": [
    {
     "data": {
      "text/plain": [
       "0.028791181810117097"
      ]
     },
     "execution_count": 51,
     "metadata": {},
     "output_type": "execute_result"
    }
   ],
   "source": []
  },
  {
   "cell_type": "code",
   "execution_count": 56,
   "metadata": {
    "colab": {
     "base_uri": "https://localhost:8080/",
     "height": 265
    },
    "id": "CA9baHE3j-NT",
    "outputId": "4caee125-6bbe-449f-c519-c5ffdf8c862a"
   },
   "outputs": [
    {
     "data": {
      "image/png": "[encoded data removed]",
      "text/plain": [
       "<Figure size 432x288 with 1 Axes>"
      ]
     },
     "metadata": {
      "needs_background": "light"
     },
     "output_type": "display_data"
    }
   ],
   "source": [
    "# Plotting the normal and anomaly losses with the threshold\n",
    "plt.hist(train_loss, bins = 10, label = 'Normal')\n",
    "plt.hist(train_loss_a, bins = 10, label = 'Anomaly')\n",
    "plt.axvline(threshold, color='r', linewidth = 3, linestyle = 'dashed', label = '{:0.3f}'.format(threshold))\n",
    "plt.legend(loc = 'upper right')\n",
    "plt.show()"
   ]
  },
  {
   "cell_type": "code",
   "execution_count": 59,
   "metadata": {
    "id": "YhkCxKbTk1eh"
   },
   "outputs": [
    {
     "data": {
      "text/plain": [
       "<tf.Tensor: shape=(4998,), dtype=bool, numpy=array([False, False,  True, ..., False,  True,  True])>"
      ]
     },
     "execution_count": 59,
     "metadata": {},
     "output_type": "execute_result"
    }
   ],
   "source": [
    "# Number of correct predictions for Normal test data  \n",
    "preds = tf.math.less(train_loss, threshold)\n",
    "preds"
   ]
  },
  {
   "cell_type": "code",
   "execution_count": 60,
   "metadata": {
    "colab": {
     "base_uri": "https://localhost:8080/"
    },
    "id": "6B9m-mfnk-HH",
    "outputId": "fc3cdba3-9d8a-4aae-8b78-3e73d98c74b1"
   },
   "outputs": [
    {
     "data": {
      "text/plain": [
       "<tf.Tensor: shape=(), dtype=int64, numpy=3821>"
      ]
     },
     "execution_count": 60,
     "metadata": {},
     "output_type": "execute_result"
    }
   ],
   "source": [
    "tf.math.count_nonzero(preds)"
   ]
  },
  {
   "cell_type": "code",
   "execution_count": 61,
   "metadata": {
    "id": "c-zCwgsYlI0v"
   },
   "outputs": [],
   "source": [
    "# Number of correct predictions for Anomaly test data \n",
    "preds_a = tf.math.greater(train_loss_a, threshold)"
   ]
  },
  {
   "cell_type": "code",
   "execution_count": 62,
   "metadata": {
    "colab": {
     "base_uri": "https://localhost:8080/"
    },
    "id": "DH0nTPxrlSTi",
    "outputId": "4f4af546-41b4-4bc8-8647-c98ad30c9f06"
   },
   "outputs": [
    {
     "data": {
      "text/plain": [
       "<tf.Tensor: shape=(), dtype=int64, numpy=137>"
      ]
     },
     "execution_count": 62,
     "metadata": {},
     "output_type": "execute_result"
    }
   ],
   "source": [
    "tf.math.count_nonzero(preds_a)"
   ]
  },
  {
   "cell_type": "code",
   "execution_count": 63,
   "metadata": {
    "colab": {
     "base_uri": "https://localhost:8080/"
    },
    "id": "w3lKPX8tlaiW",
    "outputId": "1d5da799-7a6d-4a97-f312-3a6f1d68e7ef"
   },
   "outputs": [
    {
     "data": {
      "text/plain": [
       "TensorShape([159])"
      ]
     },
     "execution_count": 63,
     "metadata": {},
     "output_type": "execute_result"
    }
   ],
   "source": [
    "preds_a.shape"
   ]
  },
  {
   "cell_type": "code",
   "execution_count": null,
   "metadata": {},
   "outputs": [],
   "source": [
    "\n"
   ]
  }
 ],
 "metadata": {
  "colab": {
   "name": "Anomaly Detection",
   "provenance": []
  },
  "kernelspec": {
   "display_name": "Python 3",
   "language": "python",
   "name": "python3"
  },
  "language_info": {
   "codemirror_mode": {
    "name": "ipython",
    "version": 3
   },
   "file_extension": ".py",
   "mimetype": "text/x-python",
   "name": "python",
   "nbconvert_exporter": "python",
   "pygments_lexer": "ipython3",
   "version": "3.8.8"
  }
 },
 "nbformat": 4,
 "nbformat_minor": 1
}
